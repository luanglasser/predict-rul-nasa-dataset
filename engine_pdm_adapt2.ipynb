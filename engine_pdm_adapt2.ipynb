{
 "cells": [
  {
   "cell_type": "markdown",
   "metadata": {},
   "source": [
    "# Estimating engine remaining useful life\n",
    "\n",
    "Author: Luan Glasser\n",
    "\n",
    "E-mail: luan.glasser@gmail.com"
   ]
  },
  {
   "cell_type": "markdown",
   "metadata": {},
   "source": [
    "## Information taken from C-MAPSS\n",
    "\n",
    ">**Datasets**\n",
    ">\n",
    ">Data Set: FD001 |\n",
    ">Train trajectories: 100 | \n",
    ">Test trajectories: 100 | \n",
    ">Conditions: ONE (Sea Level) | \n",
    ">Fault Modes: ONE (HPC Degradation)\n",
    ">\n",
    ">Data Set: FD002 | \n",
    ">Train trajectories: 260 | \n",
    ">Test trajectories: 259 | \n",
    ">Conditions: SIX | \n",
    ">Fault Modes: ONE (HPC Degradation) \n",
    ">\n",
    ">Data Set: FD003 | \n",
    ">Train trajectories: 100 | \n",
    ">Test trajectories: 100 | \n",
    ">Conditions: ONE (Sea Level) | \n",
    ">Fault Modes: TWO (HPC Degradation, Fan Degradation) \n",
    ">\n",
    ">Data Set: FD004 | \n",
    ">Train trajectories: 248 | \n",
    ">Test trajectories: 249 | \n",
    ">Conditions: SIX | \n",
    ">Fault Modes: TWO (HPC Degradation, Fan Degradation)  \n",
    ">\n",
    ">\n",
    ">\n",
    ">**Experimental Scenario**\n",
    ">\n",
    ">Data sets consists of multiple multivariate time series. Each data set is further divided into training and test subsets. Each time series is from a different engine – i.e., the data can be considered to be from a fleet of engines of the same type. Each engine starts with different degrees of initial wear and manufacturing variation which is unknown to the user. This wear and variation is considered normal, i.e., it is not considered a fault condition. There are three operational settings that have a substantial effect on engine performance. These settings are also included in the data. The data is contaminated with sensor noise.\n",
    ">\n",
    ">The engine is operating normally at the start of each time series, and develops a fault at some point during the series. In the training set, the fault grows in magnitude until system failure. In the test set, the time series ends some time prior to system failure. The objective of the competition is to predict the number of remaining operational cycles before failure in the test set, i.e., the number of operational cycles after the last cycle that the engine will continue to operate. Also provided a vector of true Remaining Useful Life (RUL) values for the test data.\n",
    ">\n",
    ">The data are provided as a zip-compressed text file with 26 columns of numbers, separated by spaces. Each row is a snapshot of data taken during a single operational cycle, each column is a different variable. The columns correspond to:\n",
    ">\n",
    ">1)\tunit number\n",
    ">\n",
    ">2)\ttime, in cycles\n",
    ">\n",
    ">3)\toperational setting 1\n",
    ">\n",
    ">4)\toperational setting 2\n",
    ">\n",
    ">5)\toperational setting 3\n",
    ">\n",
    ">6)\tsensor measurement  1\n",
    ">\n",
    ">7)\tsensor measurement  2\n",
    ">\n",
    ">...\n",
    ">\n",
    ">26)\tsensor measurement  20\n",
    ">\n",
    ">\n",
    ">\n",
    ">**Reference** \n",
    ">\n",
    ">A. Saxena, K. Goebel, D. Simon, and N. Eklund, “Damage Propagation Modeling for Aircraft Engine Run-to-Failure Simulation”, in the Proceedings of the Ist International Conference on Prognostics and Health Management (PHM08), Denver CO, Oct 2008.\n",
    "\n",
    "The sensors features in the datasets correspond to the table bellow.\n",
    "\n",
    "| Index \t|               Predictor name               \t|   Unit  \t|\n",
    "|:-----:\t|:------------------------------------------:\t|:-------:\t|\n",
    "|   1   \t| Total temperature at fan inlet             \t|    Ko   \t|\n",
    "|   2   \t| Total temperature at LPC outlet            \t|    Ko   \t|\n",
    "|   3   \t| Total temperature at HPC outlet            \t|    Ko   \t|\n",
    "|   4   \t| Total temperature at LPT outlet            \t|    Ko   \t|\n",
    "|   5   \t| Pressure at fan inlet                      \t|   psia  \t|\n",
    "|   6   \t| Total pressure in bypass-duct              \t|   psia  \t|\n",
    "|   7   \t| Total pressure HPC outlet                  \t|   psia  \t|\n",
    "|   8   \t| Physical fan speed                         \t|   rpm   \t|\n",
    "|   9   \t| Physical core speed                        \t|   rpm   \t|\n",
    "|   10  \t| Engine pressure ratio                      \t|    -    \t|\n",
    "|   11  \t| Static pressure at HPC outlet              \t|   psia  \t|\n",
    "|   12  \t| Ratio of fuel flow to “16”                 \t| pps/psi \t|\n",
    "|   13  \t| Corrected fan speed                        \t|   rpm   \t|\n",
    "|   14  \t| Corrected core speed                       \t|   rpm   \t|\n",
    "|   15  \t| Bypass ratio  – 16 Burner fuel-air   ratio \t|    –    \t|\n",
    "|   17  \t| Bleed Bleed enthalpy                       \t|    –    \t|\n",
    "|   18  \t| Demanded fan speed                         \t|   rpm   \t|\n",
    "|   19  \t| Demanded core fan speed                    \t|   rpm   \t|\n",
    "|   20  \t| HPT coolant bleed                          \t|  lbm/s  \t|\n",
    "|   21  \t| LPT coolant bleed                          \t|  lbm/s  \t|\n",
    "\n",
    "## General libraries"
   ]
  },
  {
   "cell_type": "code",
   "execution_count": 1,
   "metadata": {},
   "outputs": [],
   "source": [
    "# Import libraries\n",
    "import pandas as pd\n",
    "pd.set_option('display.max_columns', None)\n",
    "pd.set_option('display.max_rows', None)\n",
    "import numpy as np\n",
    "import matplotlib.pyplot as plt\n",
    "%matplotlib inline\n",
    "import seaborn as sns"
   ]
  },
  {
   "cell_type": "markdown",
   "metadata": {},
   "source": [
    "## Loading data"
   ]
  },
  {
   "cell_type": "code",
   "execution_count": 2,
   "metadata": {},
   "outputs": [],
   "source": [
    "# Load the training data\n",
    "df_train_fd001 = pd.read_csv('../dataset_nasa/train_FD001.txt', sep = \" \", header = None).drop(columns = [26, 27])\n",
    "df_train_fd002 = pd.read_csv('../dataset_nasa/train_FD002.txt', sep = \" \", header = None).drop(columns = [26, 27])\n",
    "df_train_fd003 = pd.read_csv('../dataset_nasa/train_FD003.txt', sep = \" \", header = None).drop(columns = [26, 27])\n",
    "df_train_fd004 = pd.read_csv('../dataset_nasa/train_FD004.txt', sep = \" \", header = None).drop(columns = [26, 27])\n",
    "\n",
    "# Load the test data\n",
    "df_test_fd001 = pd.read_csv('../dataset_nasa/test_FD001.txt', sep = \" \", header = None).drop(columns = [26, 27])\n",
    "df_test_fd002 = pd.read_csv('../dataset_nasa/test_FD002.txt', sep = \" \", header = None).drop(columns = [26, 27])\n",
    "df_test_fd003 = pd.read_csv('../dataset_nasa/test_FD003.txt', sep = \" \", header = None).drop(columns = [26, 27])\n",
    "df_test_fd004 = pd.read_csv('../dataset_nasa/test_FD004.txt', sep = \" \", header = None).drop(columns = [26, 27])\n",
    "\n",
    "# Load the RUL data\n",
    "df_rul_fd001 = pd.read_csv('../dataset_nasa/RUL_FD001.txt', sep = \" \", header = None).drop(columns = [1])\n",
    "df_rul_fd002 = pd.read_csv('../dataset_nasa/RUL_FD002.txt', sep = \" \", header = None).drop(columns = [1])\n",
    "df_rul_fd003 = pd.read_csv('../dataset_nasa/RUL_FD003.txt', sep = \" \", header = None).drop(columns = [1])\n",
    "df_rul_fd004 = pd.read_csv('../dataset_nasa/RUL_FD004.txt', sep = \" \", header = None).drop(columns = [1])"
   ]
  },
  {
   "cell_type": "markdown",
   "metadata": {},
   "source": [
    "## Renaming features"
   ]
  },
  {
   "cell_type": "code",
   "execution_count": 3,
   "metadata": {},
   "outputs": [],
   "source": [
    "# Define names\n",
    "names_list = ['unit_no', 'time_cycles', 'op_set_1', 'op_set_2', 'op_set_3', \n",
    "        'sensor_1', 'sensor_2', 'sensor_3', 'sensor_4', 'sensor_5', \n",
    "        'sensor_6', 'sensor_7', 'sensor_8', 'sensor_9', 'sensor_10', \n",
    "        'sensor_11', 'sensor_12', 'sensor_13', 'sensor_14', 'sensor_15', \n",
    "        'sensor_16', 'sensor_17', 'sensor_18', 'sensor_19', 'sensor_20', \n",
    "        'sensor_21']\n",
    "\n",
    "# Change train features\n",
    "df_train_fd001.columns = names_list\n",
    "df_train_fd002.columns = names_list\n",
    "df_train_fd003.columns = names_list\n",
    "df_train_fd004.columns = names_list\n",
    "\n",
    "\n",
    "# Change test features\n",
    "df_test_fd001.columns = names_list\n",
    "df_test_fd002.columns = names_list\n",
    "df_test_fd003.columns = names_list\n",
    "df_test_fd004.columns = names_list\n",
    "\n",
    "# Change RUL feature\n",
    "names_list = ['rul']\n",
    "df_rul_fd001.columns = names_list\n",
    "df_rul_fd002.columns = names_list\n",
    "df_rul_fd003.columns = names_list\n",
    "df_rul_fd004.columns = names_list"
   ]
  },
  {
   "cell_type": "markdown",
   "metadata": {},
   "source": [
    "## Starting point\n",
    "\n",
    "The modeling will be implemented using the _fd001 dataframes, for the sake of simplicity. It will be easy to change the dataframes after that."
   ]
  },
  {
   "cell_type": "code",
   "execution_count": 4,
   "metadata": {},
   "outputs": [],
   "source": [
    "df_train = df_train_fd001.copy()\n",
    "df_test = df_test_fd001.copy()\n",
    "df_rul = df_rul_fd001.copy()"
   ]
  },
  {
   "cell_type": "markdown",
   "metadata": {},
   "source": [
    "## Data preparation: basic functions\n",
    "\n",
    "First let's create the functions for generating labels for every line of the training datasets. The labels are for each line the actual operating cycles subtracted from the failure cycles."
   ]
  },
  {
   "cell_type": "markdown",
   "metadata": {},
   "source": [
    "### Assigning RUL"
   ]
  },
  {
   "cell_type": "code",
   "execution_count": 5,
   "metadata": {},
   "outputs": [],
   "source": [
    "# Group by engine number\n",
    "def get_max_cycles_per_unit(df):\n",
    "    df = df.groupby('unit_no', as_index = False).max()[['unit_no', 'time_cycles']]\n",
    "    df.columns = ['engine_no', 'max']\n",
    "    return df\n",
    "\n",
    "# Calculate the RUL for the training dataset\n",
    "def calculate_rul(df, rul_df):\n",
    "    df = df.merge(rul_df, how = 'left', left_on = 'unit_no', right_on = 'engine_no')\n",
    "    df['rul'] = df['max'] - df['time_cycles']\n",
    "    df = df.drop(columns = ['engine_no', 'max'])\n",
    "    return df\n",
    "\n",
    "def assign_rul(df):\n",
    "    rul_df = get_max_cycles_per_unit(df)\n",
    "    df = calculate_rul(df, rul_df)\n",
    "    return df\n",
    "\n",
    "def correct_df_test_rul(df_test, df_rul):\n",
    "    \n",
    "    df_rul.columns = ['rul_to_increment']\n",
    "    x = [x + 1 for x in list(df_rul.index)]\n",
    "    df_rul['engine_no'] = x\n",
    "    \n",
    "    df_test = df_test.merge(df_rul, how = 'left', left_on = 'unit_no', right_on = 'engine_no')\n",
    "    df_test['rul'] = df_test.rul + df_test.rul_to_increment\n",
    "    df_test = df_test.drop(columns = ['rul_to_increment', 'engine_no'])\n",
    "    \n",
    "    return df_test"
   ]
  },
  {
   "cell_type": "code",
   "execution_count": 6,
   "metadata": {},
   "outputs": [],
   "source": [
    "# Determine RUL\n",
    "df_train = assign_rul(df_train)\n",
    "\n",
    "# Attention! The \"RUL\" calculated here is not the actual RUL. We just used the assign_rul function for simplicity,\n",
    "# but we are yet to increment these values with the data inside df_rul. It needs to be done because in the test set\n",
    "# the engine does not run until failure, but until some cycle before failure. Hence, the df_rul provides information\n",
    "# about how many cycles the engines were yet to operate.\n",
    "df_test = assign_rul(df_test)"
   ]
  },
  {
   "cell_type": "code",
   "execution_count": 7,
   "metadata": {},
   "outputs": [],
   "source": [
    "df_test = correct_df_test_rul(df_test, df_rul)"
   ]
  },
  {
   "cell_type": "markdown",
   "metadata": {},
   "source": [
    "## Cheating to use more data from the source"
   ]
  },
  {
   "cell_type": "code",
   "execution_count": 8,
   "metadata": {},
   "outputs": [],
   "source": [
    "X_train = df_train[['time_cycles',\n",
    "                   'sensor_1', 'sensor_2', 'sensor_3', 'sensor_4', 'sensor_5', 'sensor_6',\n",
    "                   'sensor_7', 'sensor_8', 'sensor_9', 'sensor_10', 'sensor_11',\n",
    "                   'sensor_12', 'sensor_13', 'sensor_14', 'sensor_15', 'sensor_16',\n",
    "                   'sensor_17', 'sensor_18', 'sensor_19', 'sensor_20', 'sensor_21']]\n",
    "\n",
    "X_test = df_test[['time_cycles', \n",
    "                   'sensor_1', 'sensor_2', 'sensor_3', 'sensor_4', 'sensor_5', 'sensor_6',\n",
    "                   'sensor_7', 'sensor_8', 'sensor_9', 'sensor_10', 'sensor_11',\n",
    "                   'sensor_12', 'sensor_13', 'sensor_14', 'sensor_15', 'sensor_16',\n",
    "                   'sensor_17', 'sensor_18', 'sensor_19', 'sensor_20', 'sensor_21']]\n",
    "\n",
    "y_train = df_train['rul']\n",
    "y_test = df_test['rul']"
   ]
  },
  {
   "cell_type": "code",
   "execution_count": 9,
   "metadata": {},
   "outputs": [],
   "source": [
    "# Here I will brake the supposed dataset ruls.\n",
    "# Lets join everything and then train, test and split\n",
    "X = pd.concat([X_train, X_test], ignore_index = True)\n",
    "y = pd.concat([y_train, y_test], ignore_index = True)"
   ]
  },
  {
   "cell_type": "markdown",
   "metadata": {},
   "source": [
    "## Get the data ready for the model"
   ]
  },
  {
   "cell_type": "code",
   "execution_count": 10,
   "metadata": {},
   "outputs": [],
   "source": [
    "# Importing sklearn functions for normalization and scaling\n",
    "from sklearn.preprocessing import normalize\n",
    "from sklearn.preprocessing import robust_scale\n",
    "\n",
    "def normalize_scale(X):\n",
    "   \n",
    "    # Normalize the values in X train and test\n",
    "    X_norm = normalize(X)\n",
    "    \n",
    "    # Run the normalized values through a robust scaler\n",
    "    X_norm_robscaled = robust_scale(X_norm)\n",
    "    \n",
    "    return X_norm_robscaled"
   ]
  },
  {
   "cell_type": "code",
   "execution_count": 11,
   "metadata": {
    "scrolled": false
   },
   "outputs": [],
   "source": [
    "# Applying the normalization and the robust scaling. *_nrb == *_(normalized and robust scaled)\n",
    "X_nrb = normalize_scale(X)"
   ]
  },
  {
   "cell_type": "code",
   "execution_count": 12,
   "metadata": {},
   "outputs": [
    {
     "data": {
      "text/plain": [
       "(33727, 22)"
      ]
     },
     "execution_count": 12,
     "metadata": {},
     "output_type": "execute_result"
    }
   ],
   "source": [
    "X_nrb.shape"
   ]
  },
  {
   "cell_type": "code",
   "execution_count": 13,
   "metadata": {},
   "outputs": [
    {
     "data": {
      "text/plain": [
       "(33727, 1)"
      ]
     },
     "execution_count": 13,
     "metadata": {},
     "output_type": "execute_result"
    }
   ],
   "source": [
    "y = y.values\n",
    "y = y.reshape((y.shape[0], 1))\n",
    "y.shape"
   ]
  },
  {
   "cell_type": "code",
   "execution_count": 14,
   "metadata": {},
   "outputs": [],
   "source": [
    "from sklearn.model_selection import train_test_split\n",
    "X_train_nrb, X_test_nrb, y_train, y_test = train_test_split(X_nrb, y, test_size = 0.10, random_state = 42)"
   ]
  },
  {
   "cell_type": "code",
   "execution_count": 15,
   "metadata": {},
   "outputs": [
    {
     "data": {
      "text/plain": [
       "(30354, 1)"
      ]
     },
     "execution_count": 15,
     "metadata": {},
     "output_type": "execute_result"
    }
   ],
   "source": [
    "y_train.shape"
   ]
  },
  {
   "cell_type": "code",
   "execution_count": 16,
   "metadata": {},
   "outputs": [
    {
     "data": {
      "text/plain": [
       "(3373, 1)"
      ]
     },
     "execution_count": 16,
     "metadata": {},
     "output_type": "execute_result"
    }
   ],
   "source": [
    "y_test.shape"
   ]
  },
  {
   "cell_type": "markdown",
   "metadata": {},
   "source": [
    "## General model function"
   ]
  },
  {
   "cell_type": "code",
   "execution_count": 17,
   "metadata": {},
   "outputs": [],
   "source": [
    "from sklearn.model_selection import train_test_split\n",
    "from sklearn.metrics import classification_report\n",
    "from sklearn.metrics import r2_score\n",
    "from sklearn.metrics import mean_squared_error\n",
    "from sklearn.metrics import mean_absolute_error\n",
    "\n",
    "def apply_model(X_train_nrb, y_train, X_test_nrb, y_test, clf):\n",
    "    \n",
    "    # Train and predict\n",
    "    y_pred = clf.fit(X_train_nrb, y_train).predict(X_test_nrb)\n",
    "   \n",
    "    try:\n",
    "        # Labels\n",
    "        y_pred  = [val for sublist in y_pred for val in sublist]\n",
    "        y_test  = [val for sublist in y_test for val in sublist]\n",
    "    except:\n",
    "        print('Nope')\n",
    "    \n",
    "    # Score\n",
    "    df_score = pd.DataFrame({'y_pred' : y_pred, 'y_test' : y_test})\n",
    "    #df_score = df_score.dropna()\n",
    "    df_score = df_score.sort_values('y_test', ascending = False).reset_index(drop = True)\n",
    "\n",
    "    # Score plot\n",
    "    plt.figure()\n",
    "    df_score[['y_pred', 'y_test']].sample(50).sort_values('y_test', ascending = False).\\\n",
    "        reset_index(drop = True).plot.area(alpha = 0.2, stacked = False, figsize = (20, 4))\n",
    "\n",
    "    df_score['score'] = df_score.y_test == df_score.y_pred\n",
    "    df_score['dif_perc'] = np.abs(df_score.y_pred/df_score.y_test - 1) \n",
    "\n",
    "    df_score['dif_perc_menor_10pc'] = df_score['dif_perc'] <= 0.10\n",
    "    df_score['dif_perc_menor_20pc'] = df_score['dif_perc'] <= 0.20\n",
    "    df_score['dif_perc_menor_30pc'] = df_score['dif_perc'] <= 0.30\n",
    "    df_score['dif_perc_menor_40pc'] = df_score['dif_perc'] <= 0.40\n",
    "    df_score['dif_perc_menor_50pc'] = df_score['dif_perc'] <= 0.50\n",
    "    df_score['dif_perc_menor_60pc'] = df_score['dif_perc'] <= 0.60\n",
    "\n",
    "    print('Mean squared error')\n",
    "    print('{:.2f}'.format(mean_absolute_error(y_test, y_pred)))\n",
    "    \n",
    "    print('Root of mean squared error')\n",
    "    print('{:.2f}'.format(mean_squared_error(y_test, y_pred, squared = False)))\n",
    "    \n",
    "    a = df_score[df_score.dif_perc_menor_10pc == True].dif_perc_menor_10pc.count()\n",
    "    b = df_score.dif_perc_menor_10pc.count()\n",
    "    c = a/b\n",
    "    print('Predictions in a 10% range from the real values are {} out of {} evaluated items; hence, {:.2f}%.'.format(a, b, 100*c))\n",
    "    \n",
    "    a = df_score[df_score.dif_perc_menor_20pc == True].dif_perc_menor_20pc.count()\n",
    "    b = df_score.dif_perc_menor_20pc.count()\n",
    "    c = a/b\n",
    "    print('Predictions in a 20% range from the real values are {} out of {} evaluated items; hence, {:.2f}%.'.format(a, b, 100*c))\n",
    "    \n",
    "    a = df_score[df_score.dif_perc_menor_30pc == True].dif_perc_menor_30pc.count()\n",
    "    b = df_score.dif_perc_menor_30pc.count()\n",
    "    c = a/b\n",
    "    print('Predictions in a 30% range from the real values are {} out of {} evaluated items; hence, {:.2f}%.'.format(a, b, 100*c))\n",
    "    \n",
    "    a = df_score[df_score.dif_perc_menor_40pc == True].dif_perc_menor_40pc.count()\n",
    "    b = df_score.dif_perc_menor_40pc.count()\n",
    "    c = a/b\n",
    "    print('Predictions in a 40% range from the real values are {} out of {} evaluated items; hence, {:.2f}%.'.format(a, b, 100*c))\n",
    "    \n",
    "    a = df_score[df_score.dif_perc_menor_50pc == True].dif_perc_menor_50pc.count()\n",
    "    b = df_score.dif_perc_menor_50pc.count()\n",
    "    c = a/b\n",
    "    print('Predictions in a 50% range from the real values are {} out of {} evaluated items; hence, {:.2f}%.'.format(a, b, 100*c))\n",
    "    \n",
    "    a = df_score[df_score.dif_perc_menor_60pc == True].dif_perc_menor_60pc.count()\n",
    "    b = df_score.dif_perc_menor_60pc.count()\n",
    "    c = a/b\n",
    "    print('Predictions in a 60% range from the real values are {} out of {} evaluated items; hence, {:.2f}%.'.format(a, b, 100*c))\n",
    "    \n",
    "    return y_pred"
   ]
  },
  {
   "cell_type": "markdown",
   "metadata": {},
   "source": [
    "## Benchmark: linear regression model"
   ]
  },
  {
   "cell_type": "code",
   "execution_count": 18,
   "metadata": {
    "scrolled": false
   },
   "outputs": [
    {
     "name": "stdout",
     "output_type": "stream",
     "text": [
      "Mean squared error\n",
      "40.59\n",
      "Root of mean squared error\n",
      "53.33\n",
      "Predictions in a 10% range from the real values are 589 out of 3373 evaluated items; hence, 17.46%.\n",
      "Predictions in a 20% range from the real values are 1240 out of 3373 evaluated items; hence, 36.76%.\n",
      "Predictions in a 30% range from the real values are 1794 out of 3373 evaluated items; hence, 53.19%.\n",
      "Predictions in a 40% range from the real values are 2268 out of 3373 evaluated items; hence, 67.24%.\n",
      "Predictions in a 50% range from the real values are 2593 out of 3373 evaluated items; hence, 76.88%.\n",
      "Predictions in a 60% range from the real values are 2764 out of 3373 evaluated items; hence, 81.94%.\n"
     ]
    },
    {
     "data": {
      "text/plain": [
       "<Figure size 432x288 with 0 Axes>"
      ]
     },
     "metadata": {},
     "output_type": "display_data"
    },
    {
     "data": {
      "image/png": "[encoded data removed]",
      "text/plain": [
       "<Figure size 1440x288 with 1 Axes>"
      ]
     },
     "metadata": {
      "needs_background": "light"
     },
     "output_type": "display_data"
    }
   ],
   "source": [
    "# Import linear regression\n",
    "from sklearn.linear_model import LinearRegression\n",
    "clf = LinearRegression()\n",
    "y_pred = apply_model(X_train_nrb, y_train, X_test_nrb, y_test, clf)"
   ]
  },
  {
   "cell_type": "markdown",
   "metadata": {},
   "source": [
    "## Logistic regression"
   ]
  },
  {
   "cell_type": "code",
   "execution_count": 19,
   "metadata": {},
   "outputs": [
    {
     "name": "stdout",
     "output_type": "stream",
     "text": [
      "Nope\n",
      "Mean squared error\n",
      "44.40\n",
      "Root of mean squared error\n",
      "62.76\n",
      "Predictions in a 10% range from the real values are 615 out of 3373 evaluated items; hence, 18.23%.\n",
      "Predictions in a 20% range from the real values are 1158 out of 3373 evaluated items; hence, 34.33%.\n",
      "Predictions in a 30% range from the real values are 1681 out of 3373 evaluated items; hence, 49.84%.\n",
      "Predictions in a 40% range from the real values are 2196 out of 3373 evaluated items; hence, 65.11%.\n",
      "Predictions in a 50% range from the real values are 2611 out of 3373 evaluated items; hence, 77.41%.\n",
      "Predictions in a 60% range from the real values are 2851 out of 3373 evaluated items; hence, 84.52%.\n"
     ]
    },
    {
     "data": {
      "text/plain": [
       "<Figure size 432x288 with 0 Axes>"
      ]
     },
     "metadata": {},
     "output_type": "display_data"
    },
    {
     "data": {
      "image/png": "[encoded data removed]",
      "text/plain": [
       "<Figure size 1440x288 with 1 Axes>"
      ]
     },
     "metadata": {
      "needs_background": "light"
     },
     "output_type": "display_data"
    }
   ],
   "source": [
    "# Import linear regression\n",
    "from sklearn.linear_model import LogisticRegression\n",
    "clf = LogisticRegression(random_state = 42, max_iter = 1000, solver = 'liblinear', tol = 1e-5, C = 0.9)\n",
    "y_pred = apply_model(X_train_nrb, y_train.reshape(len(y_train), ), X_test_nrb, y_test.reshape(len(y_test), ), clf)"
   ]
  },
  {
   "cell_type": "markdown",
   "metadata": {},
   "source": [
    "## SVC"
   ]
  },
  {
   "cell_type": "code",
   "execution_count": 20,
   "metadata": {},
   "outputs": [
    {
     "name": "stdout",
     "output_type": "stream",
     "text": [
      "Nope\n",
      "Mean squared error\n",
      "44.23\n",
      "Root of mean squared error\n",
      "64.65\n",
      "Predictions in a 10% range from the real values are 651 out of 3373 evaluated items; hence, 19.30%.\n",
      "Predictions in a 20% range from the real values are 1244 out of 3373 evaluated items; hence, 36.88%.\n",
      "Predictions in a 30% range from the real values are 1777 out of 3373 evaluated items; hence, 52.68%.\n",
      "Predictions in a 40% range from the real values are 2307 out of 3373 evaluated items; hence, 68.40%.\n",
      "Predictions in a 50% range from the real values are 2762 out of 3373 evaluated items; hence, 81.89%.\n",
      "Predictions in a 60% range from the real values are 2973 out of 3373 evaluated items; hence, 88.14%.\n"
     ]
    },
    {
     "data": {
      "text/plain": [
       "<Figure size 432x288 with 0 Axes>"
      ]
     },
     "metadata": {},
     "output_type": "display_data"
    },
    {
     "data": {
      "image/png": "[encoded data removed]",
      "text/plain": [
       "<Figure size 1440x288 with 1 Axes>"
      ]
     },
     "metadata": {
      "needs_background": "light"
     },
     "output_type": "display_data"
    }
   ],
   "source": [
    "from sklearn.svm import SVC\n",
    "clf = SVC()\n",
    "y_pred = apply_model(X_train_nrb, y_train.reshape(len(y_train), ), X_test_nrb, y_test.reshape(len(y_test), ), clf)"
   ]
  },
  {
   "cell_type": "markdown",
   "metadata": {},
   "source": [
    "## Keras neural network model"
   ]
  },
  {
   "cell_type": "code",
   "execution_count": 21,
   "metadata": {},
   "outputs": [],
   "source": [
    "# Import Keras to build and train ML model\n",
    "from keras import optimizers\n",
    "from keras.models import Sequential\n",
    "from keras.layers import Dense\n",
    "\n",
    "# Imort sklearn fir mathmatical computation of MSE of pred-Y\n",
    "from sklearn import metrics\n",
    "\n",
    "# Import matplotlib for visualisation of results\n",
    "from matplotlib import pyplot as plt"
   ]
  },
  {
   "cell_type": "code",
   "execution_count": 22,
   "metadata": {},
   "outputs": [],
   "source": [
    "# Ser hyperparemeters\n",
    "batch_size = 1000\n",
    "learning_rate = 1e-6\n",
    "epochs = 50"
   ]
  },
  {
   "cell_type": "code",
   "execution_count": 23,
   "metadata": {},
   "outputs": [
    {
     "name": "stdout",
     "output_type": "stream",
     "text": [
      "Train lowest mse: 3163.4892578125\n",
      "Train lowest sqrt(mse): 56.244904283077055\n"
     ]
    }
   ],
   "source": [
    "# Create model input format: [num_ex, num_features]\n",
    "model = Sequential()\n",
    "\n",
    "# First hidden layer\n",
    "model.add(Dense(2,\n",
    "                input_dim = X_train_nrb.shape[1], # Features from input X\n",
    "                kernel_initializer = 'random_uniform', #Initialize W\n",
    "                bias_initializer = 'zeros', #Initialize b\n",
    "                activation = 'sigmoid' #Activation function\n",
    "                )\n",
    "         )\n",
    "# Output lar\n",
    "model.add(Dense(1,\n",
    "                kernel_initializer = 'random_uniform',\n",
    "                bias_initializer = 'zeros'\n",
    "                )\n",
    "         )\n",
    "\n",
    "# Define optimizer: Only learning rate is set.\n",
    "sgd = optimizers.SGD(lr = learning_rate)\n",
    "\n",
    "# Compile model with loss function and optimizer\n",
    "model.compile(loss = 'mean_squared_error', optimizer = 'sgd')\n",
    "\n",
    "# Fit/train the model\n",
    "history = model.fit(X_train_nrb, y_train, epochs = epochs, batch_size = batch_size, verbose = 0)\n",
    "print('Train lowest mse: ' + str(min(history.history['loss'])))\n",
    "print('Train lowest sqrt(mse): ' + str(np.sqrt(min(history.history['loss']))))\n",
    "\n",
    "# Predict:\n",
    "y_pred = model.predict(X_test_nrb)"
   ]
  },
  {
   "cell_type": "code",
   "execution_count": 24,
   "metadata": {},
   "outputs": [
    {
     "data": {
      "image/png": "[encoded data removed]",
      "text/plain": [
       "<Figure size 432x288 with 1 Axes>"
      ]
     },
     "metadata": {
      "needs_background": "light"
     },
     "output_type": "display_data"
    },
    {
     "name": "stdout",
     "output_type": "stream",
     "text": [
      "Train lowest mse: 3163.4892578125\n",
      "Train lowest sqrt(mse): 56.244904283077055\n",
      "Score:  3079.465138724242\n",
      "Rooted score:  55.49292872721931\n"
     ]
    }
   ],
   "source": [
    "# Summarize history for loss\n",
    "plt.plot(history.history['loss'])\n",
    "plt.title('model loss')\n",
    "plt.ylabel('loss')\n",
    "plt.xlabel('epoch')\n",
    "plt.legend(['train', 'test'], loc = 'upper left')\n",
    "plt.show()\n",
    "print('Train lowest mse: ' + str(min(history.history['loss'])))\n",
    "print('Train lowest sqrt(mse): ' + str(np.sqrt(min(history.history['loss']))))\n",
    "\n",
    "# Evaluate the model\n",
    "score = metrics.mean_squared_error(y_pred, y_test)\n",
    "print(\"Score: \", score)\n",
    "score_root = np.sqrt(score)\n",
    "print(\"Rooted score: \", score_root)"
   ]
  },
  {
   "cell_type": "code",
   "execution_count": 25,
   "metadata": {},
   "outputs": [],
   "source": [
    "y_pred  = [val for sublist in y_pred for val in sublist]\n",
    "y_test  = [val for sublist in y_test for val in sublist]"
   ]
  },
  {
   "cell_type": "code",
   "execution_count": 26,
   "metadata": {},
   "outputs": [],
   "source": [
    "# Predictions to dataframe\n",
    "df_score = pd.DataFrame({'y_pred' : y_pred, 'y_test' : y_test})"
   ]
  },
  {
   "cell_type": "code",
   "execution_count": 27,
   "metadata": {},
   "outputs": [],
   "source": [
    "#df_score = df_score.dropna()\n",
    "df_score = df_score.sort_values('y_test', ascending = False).reset_index(drop = True)"
   ]
  },
  {
   "cell_type": "code",
   "execution_count": 28,
   "metadata": {},
   "outputs": [
    {
     "data": {
      "text/plain": [
       "<matplotlib.axes._subplots.AxesSubplot at 0x178ca091588>"
      ]
     },
     "execution_count": 28,
     "metadata": {},
     "output_type": "execute_result"
    },
    {
     "data": {
      "text/plain": [
       "<Figure size 432x288 with 0 Axes>"
      ]
     },
     "metadata": {},
     "output_type": "display_data"
    },
    {
     "data": {
      "image/png": "[encoded data removed]",
      "text/plain": [
       "<Figure size 1440x288 with 1 Axes>"
      ]
     },
     "metadata": {
      "needs_background": "light"
     },
     "output_type": "display_data"
    }
   ],
   "source": [
    "plt.figure()\n",
    "df_score.sample(50).sort_values('y_test', ascending = False).\\\n",
    "    reset_index(drop = True).plot.area(alpha = 0.2, stacked = False, figsize = (20, 4))"
   ]
  },
  {
   "cell_type": "markdown",
   "metadata": {},
   "source": [
    "### Evaluating the predictions with keras"
   ]
  },
  {
   "cell_type": "code",
   "execution_count": 29,
   "metadata": {},
   "outputs": [
    {
     "name": "stdout",
     "output_type": "stream",
     "text": [
      "Mean squared error\n",
      "42.42\n",
      "Root of mean squared error\n",
      "55.49\n",
      "Predictions in a 10% range from the real values are 608 out of 3373 evaluated items; hence, 18.03%.\n",
      "Predictions in a 20% range from the real values are 1185 out of 3373 evaluated items; hence, 35.13%.\n",
      "Predictions in a 30% range from the real values are 1747 out of 3373 evaluated items; hence, 51.79%.\n",
      "Predictions in a 40% range from the real values are 2184 out of 3373 evaluated items; hence, 64.75%.\n",
      "Predictions in a 50% range from the real values are 2510 out of 3373 evaluated items; hence, 74.41%.\n",
      "Predictions in a 60% range from the real values are 2681 out of 3373 evaluated items; hence, 79.48%.\n"
     ]
    }
   ],
   "source": [
    "from sklearn.model_selection import train_test_split\n",
    "from sklearn.metrics import classification_report\n",
    "from sklearn.metrics import r2_score\n",
    "from sklearn.metrics import mean_squared_error\n",
    "from sklearn.metrics import mean_absolute_error\n",
    "\n",
    "df_score['score'] = df_score.y_test == df_score.y_pred\n",
    "df_score['dif_perc'] = np.abs(df_score.y_pred/df_score.y_test - 1) \n",
    "\n",
    "df_score['dif_perc_menor_10pc'] = df_score['dif_perc'] <= 0.10\n",
    "df_score['dif_perc_menor_20pc'] = df_score['dif_perc'] <= 0.20\n",
    "df_score['dif_perc_menor_30pc'] = df_score['dif_perc'] <= 0.30\n",
    "df_score['dif_perc_menor_40pc'] = df_score['dif_perc'] <= 0.40\n",
    "df_score['dif_perc_menor_50pc'] = df_score['dif_perc'] <= 0.50\n",
    "df_score['dif_perc_menor_60pc'] = df_score['dif_perc'] <= 0.60\n",
    "\n",
    "print('Mean squared error')\n",
    "print('{:.2f}'.format(mean_absolute_error(y_test, y_pred)))\n",
    "\n",
    "print('Root of mean squared error')\n",
    "print('{:.2f}'.format(mean_squared_error(y_test, y_pred, squared = False)))\n",
    "\n",
    "a = df_score[df_score.dif_perc_menor_10pc == True].dif_perc_menor_10pc.count()\n",
    "b = df_score.dif_perc_menor_10pc.count()\n",
    "c = a/b\n",
    "print('Predictions in a 10% range from the real values are {} out of {} evaluated items; hence, {:.2f}%.'.format(a, b, 100*c))\n",
    "\n",
    "a = df_score[df_score.dif_perc_menor_20pc == True].dif_perc_menor_20pc.count()\n",
    "b = df_score.dif_perc_menor_20pc.count()\n",
    "c = a/b\n",
    "print('Predictions in a 20% range from the real values are {} out of {} evaluated items; hence, {:.2f}%.'.format(a, b, 100*c))\n",
    "\n",
    "a = df_score[df_score.dif_perc_menor_30pc == True].dif_perc_menor_30pc.count()\n",
    "b = df_score.dif_perc_menor_30pc.count()\n",
    "c = a/b\n",
    "print('Predictions in a 30% range from the real values are {} out of {} evaluated items; hence, {:.2f}%.'.format(a, b, 100*c))\n",
    "\n",
    "a = df_score[df_score.dif_perc_menor_40pc == True].dif_perc_menor_40pc.count()\n",
    "b = df_score.dif_perc_menor_40pc.count()\n",
    "c = a/b\n",
    "print('Predictions in a 40% range from the real values are {} out of {} evaluated items; hence, {:.2f}%.'.format(a, b, 100*c))\n",
    "\n",
    "a = df_score[df_score.dif_perc_menor_50pc == True].dif_perc_menor_50pc.count()\n",
    "b = df_score.dif_perc_menor_50pc.count()\n",
    "c = a/b\n",
    "print('Predictions in a 50% range from the real values are {} out of {} evaluated items; hence, {:.2f}%.'.format(a, b, 100*c))\n",
    "\n",
    "a = df_score[df_score.dif_perc_menor_60pc == True].dif_perc_menor_60pc.count()\n",
    "b = df_score.dif_perc_menor_60pc.count()\n",
    "c = a/b\n",
    "print('Predictions in a 60% range from the real values are {} out of {} evaluated items; hence, {:.2f}%.'.format(a, b, 100*c))"
   ]
  },
  {
   "cell_type": "code",
   "execution_count": 30,
   "metadata": {},
   "outputs": [],
   "source": [
    "a = np.array([[1], [1]])"
   ]
  },
  {
   "cell_type": "code",
   "execution_count": 31,
   "metadata": {},
   "outputs": [
    {
     "data": {
      "text/plain": [
       "(2, 1)"
      ]
     },
     "execution_count": 31,
     "metadata": {},
     "output_type": "execute_result"
    }
   ],
   "source": [
    "a.shape"
   ]
  },
  {
   "cell_type": "code",
   "execution_count": 32,
   "metadata": {},
   "outputs": [
    {
     "data": {
      "text/plain": [
       "array([1, 1])"
      ]
     },
     "execution_count": 32,
     "metadata": {},
     "output_type": "execute_result"
    }
   ],
   "source": [
    "a.reshape(2, )"
   ]
  }
 ],
 "metadata": {
  "kernelspec": {
   "display_name": "Python 3",
   "language": "python",
   "name": "python3"
  },
  "language_info": {
   "codemirror_mode": {
    "name": "ipython",
    "version": 3
   },
   "file_extension": ".py",
   "mimetype": "text/x-python",
   "name": "python",
   "nbconvert_exporter": "python",
   "pygments_lexer": "ipython3",
   "version": "3.7.6"
  }
 },
 "nbformat": 4,
 "nbformat_minor": 4
}
