{
 "cells": [
  {
   "cell_type": "markdown",
   "metadata": {},
   "source": [
    "# Estimating engine remaining useful life\n",
    "\n",
    "Author: Luan Glasser\n",
    "\n",
    "E-mail: luan.glasser@gmail.com"
   ]
  },
  {
   "cell_type": "markdown",
   "metadata": {},
   "source": [
    "## Information taken from C-MAPSS\n",
    "\n",
    ">**Datasets**\n",
    ">\n",
    ">Data Set: FD001 |\n",
    ">Train trajectories: 100 | \n",
    ">Test trajectories: 100 | \n",
    ">Conditions: ONE (Sea Level) | \n",
    ">Fault Modes: ONE (HPC Degradation)\n",
    ">\n",
    ">Data Set: FD002 | \n",
    ">Train trajectories: 260 | \n",
    ">Test trajectories: 259 | \n",
    ">Conditions: SIX | \n",
    ">Fault Modes: ONE (HPC Degradation) \n",
    ">\n",
    ">Data Set: FD003 | \n",
    ">Train trajectories: 100 | \n",
    ">Test trajectories: 100 | \n",
    ">Conditions: ONE (Sea Level) | \n",
    ">Fault Modes: TWO (HPC Degradation, Fan Degradation) \n",
    ">\n",
    ">Data Set: FD004 | \n",
    ">Train trajectories: 248 | \n",
    ">Test trajectories: 249 | \n",
    ">Conditions: SIX | \n",
    ">Fault Modes: TWO (HPC Degradation, Fan Degradation)  \n",
    ">\n",
    ">\n",
    ">\n",
    ">**Experimental Scenario**\n",
    ">\n",
    ">Data sets consists of multiple multivariate time series. Each data set is further divided into training and test subsets. Each time series is from a different engine – i.e., the data can be considered to be from a fleet of engines of the same type. Each engine starts with different degrees of initial wear and manufacturing variation which is unknown to the user. This wear and variation is considered normal, i.e., it is not considered a fault condition. There are three operational settings that have a substantial effect on engine performance. These settings are also included in the data. The data is contaminated with sensor noise.\n",
    ">\n",
    ">The engine is operating normally at the start of each time series, and develops a fault at some point during the series. In the training set, the fault grows in magnitude until system failure. In the test set, the time series ends some time prior to system failure. The objective of the competition is to predict the number of remaining operational cycles before failure in the test set, i.e., the number of operational cycles after the last cycle that the engine will continue to operate. Also provided a vector of true Remaining Useful Life (RUL) values for the test data.\n",
    ">\n",
    ">The data are provided as a zip-compressed text file with 26 columns of numbers, separated by spaces. Each row is a snapshot of data taken during a single operational cycle, each column is a different variable. The columns correspond to:\n",
    ">\n",
    ">1)\tunit number\n",
    ">\n",
    ">2)\ttime, in cycles\n",
    ">\n",
    ">3)\toperational setting 1\n",
    ">\n",
    ">4)\toperational setting 2\n",
    ">\n",
    ">5)\toperational setting 3\n",
    ">\n",
    ">6)\tsensor measurement  1\n",
    ">\n",
    ">7)\tsensor measurement  2\n",
    ">\n",
    ">...\n",
    ">\n",
    ">26)\tsensor measurement  20\n",
    ">\n",
    ">\n",
    ">\n",
    ">**Reference** \n",
    ">\n",
    ">A. Saxena, K. Goebel, D. Simon, and N. Eklund, “Damage Propagation Modeling for Aircraft Engine Run-to-Failure Simulation”, in the Proceedings of the Ist International Conference on Prognostics and Health Management (PHM08), Denver CO, Oct 2008.\n",
    "\n",
    "The sensors features in the datasets correspond to the table bellow.\n",
    "\n",
    "| Index \t|               Predictor name               \t|   Unit  \t|\n",
    "|:-----:\t|:------------------------------------------:\t|:-------:\t|\n",
    "|   1   \t| Total temperature at fan inlet             \t|    Ko   \t|\n",
    "|   2   \t| Total temperature at LPC outlet            \t|    Ko   \t|\n",
    "|   3   \t| Total temperature at HPC outlet            \t|    Ko   \t|\n",
    "|   4   \t| Total temperature at LPT outlet            \t|    Ko   \t|\n",
    "|   5   \t| Pressure at fan inlet                      \t|   psia  \t|\n",
    "|   6   \t| Total pressure in bypass-duct              \t|   psia  \t|\n",
    "|   7   \t| Total pressure HPC outlet                  \t|   psia  \t|\n",
    "|   8   \t| Physical fan speed                         \t|   rpm   \t|\n",
    "|   9   \t| Physical core speed                        \t|   rpm   \t|\n",
    "|   10  \t| Engine pressure ratio                      \t|    -    \t|\n",
    "|   11  \t| Static pressure at HPC outlet              \t|   psia  \t|\n",
    "|   12  \t| Ratio of fuel flow to “16”                 \t| pps/psi \t|\n",
    "|   13  \t| Corrected fan speed                        \t|   rpm   \t|\n",
    "|   14  \t| Corrected core speed                       \t|   rpm   \t|\n",
    "|   15  \t| Bypass ratio  – 16 Burner fuel-air   ratio \t|    –    \t|\n",
    "|   17  \t| Bleed Bleed enthalpy                       \t|    –    \t|\n",
    "|   18  \t| Demanded fan speed                         \t|   rpm   \t|\n",
    "|   19  \t| Demanded core fan speed                    \t|   rpm   \t|\n",
    "|   20  \t| HPT coolant bleed                          \t|  lbm/s  \t|\n",
    "|   21  \t| LPT coolant bleed                          \t|  lbm/s  \t|\n",
    "\n",
    "## General libraries"
   ]
  },
  {
   "cell_type": "code",
   "execution_count": 122,
   "metadata": {},
   "outputs": [],
   "source": [
    "# Import libraries\n",
    "import pandas as pd\n",
    "pd.set_option('display.max_columns', None)\n",
    "pd.set_option('display.max_rows', None)\n",
    "import numpy as np\n",
    "import matplotlib.pyplot as plt\n",
    "%matplotlib inline\n",
    "import seaborn as sns"
   ]
  },
  {
   "cell_type": "markdown",
   "metadata": {},
   "source": [
    "## Loading data"
   ]
  },
  {
   "cell_type": "code",
   "execution_count": 123,
   "metadata": {},
   "outputs": [],
   "source": [
    "# Load the training data\n",
    "df_train_fd001 = pd.read_csv('../dataset_nasa/train_FD001.txt', sep = \" \", header = None).drop(columns = [26, 27])\n",
    "df_train_fd002 = pd.read_csv('../dataset_nasa/train_FD002.txt', sep = \" \", header = None).drop(columns = [26, 27])\n",
    "df_train_fd003 = pd.read_csv('../dataset_nasa/train_FD003.txt', sep = \" \", header = None).drop(columns = [26, 27])\n",
    "df_train_fd004 = pd.read_csv('../dataset_nasa/train_FD004.txt', sep = \" \", header = None).drop(columns = [26, 27])\n",
    "\n",
    "# Load the test data\n",
    "df_test_fd001 = pd.read_csv('../dataset_nasa/test_FD001.txt', sep = \" \", header = None).drop(columns = [26, 27])\n",
    "df_test_fd002 = pd.read_csv('../dataset_nasa/test_FD002.txt', sep = \" \", header = None).drop(columns = [26, 27])\n",
    "df_test_fd003 = pd.read_csv('../dataset_nasa/test_FD003.txt', sep = \" \", header = None).drop(columns = [26, 27])\n",
    "df_test_fd004 = pd.read_csv('../dataset_nasa/test_FD004.txt', sep = \" \", header = None).drop(columns = [26, 27])\n",
    "\n",
    "# Load the RUL data\n",
    "df_rul_fd001 = pd.read_csv('../dataset_nasa/RUL_FD001.txt', sep = \" \", header = None).drop(columns = [1])\n",
    "df_rul_fd002 = pd.read_csv('../dataset_nasa/RUL_FD002.txt', sep = \" \", header = None).drop(columns = [1])\n",
    "df_rul_fd003 = pd.read_csv('../dataset_nasa/RUL_FD003.txt', sep = \" \", header = None).drop(columns = [1])\n",
    "df_rul_fd004 = pd.read_csv('../dataset_nasa/RUL_FD004.txt', sep = \" \", header = None).drop(columns = [1])"
   ]
  },
  {
   "cell_type": "markdown",
   "metadata": {},
   "source": [
    "## Renaming features"
   ]
  },
  {
   "cell_type": "code",
   "execution_count": 124,
   "metadata": {},
   "outputs": [],
   "source": [
    "# Define names\n",
    "names_list = ['unit_no', 'time_cycles', 'op_set_1', 'op_set_2', 'op_set_3', \n",
    "        'sensor_1', 'sensor_2', 'sensor_3', 'sensor_4', 'sensor_5', \n",
    "        'sensor_6', 'sensor_7', 'sensor_8', 'sensor_9', 'sensor_10', \n",
    "        'sensor_11', 'sensor_12', 'sensor_13', 'sensor_14', 'sensor_15', \n",
    "        'sensor_16', 'sensor_17', 'sensor_18', 'sensor_19', 'sensor_20', \n",
    "        'sensor_21']\n",
    "\n",
    "# Change train features\n",
    "df_train_fd001.columns = names_list\n",
    "df_train_fd002.columns = names_list\n",
    "df_train_fd003.columns = names_list\n",
    "df_train_fd004.columns = names_list\n",
    "\n",
    "\n",
    "# Change test features\n",
    "df_test_fd001.columns = names_list\n",
    "df_test_fd002.columns = names_list\n",
    "df_test_fd003.columns = names_list\n",
    "df_test_fd004.columns = names_list\n",
    "\n",
    "# Change RUL feature\n",
    "names_list = ['rul']\n",
    "df_rul_fd001.columns = names_list\n",
    "df_rul_fd002.columns = names_list\n",
    "df_rul_fd003.columns = names_list\n",
    "df_rul_fd004.columns = names_list"
   ]
  },
  {
   "cell_type": "markdown",
   "metadata": {},
   "source": [
    "## Data preparation: basic functions\n",
    "\n",
    "First let's create the functions for generating labels for every line of the training datasets. The labels are for each line the actual operating cycles subtracted from the failure cycles."
   ]
  },
  {
   "cell_type": "markdown",
   "metadata": {},
   "source": [
    "### Assigning RUL function"
   ]
  },
  {
   "cell_type": "code",
   "execution_count": 125,
   "metadata": {},
   "outputs": [],
   "source": [
    "# Group by engine number\n",
    "def get_max_cycles_per_unit(df):\n",
    "    df = df.groupby('unit_no', as_index = False).max()[['unit_no', 'time_cycles']]\n",
    "    df.columns = ['engine_no', 'max']\n",
    "    return df\n",
    "\n",
    "# Calculate the RUL for the training dataset\n",
    "def calculate_rul(df, rul_df):\n",
    "    df = df.merge(rul_df, how = 'left', left_on = 'unit_no', right_on = 'engine_no')\n",
    "    df['rul'] = df['max'] - df['time_cycles']\n",
    "    df =df.drop(columns = ['engine_no', 'max'])\n",
    "    return df"
   ]
  },
  {
   "cell_type": "markdown",
   "metadata": {},
   "source": [
    "### Feature selection based on correlation function\n",
    "\n",
    "The correlation matrix will be computed and the features whose correlations are higher than 0.5 or lower than -0.5 will be selected."
   ]
  },
  {
   "cell_type": "code",
   "execution_count": 126,
   "metadata": {},
   "outputs": [],
   "source": [
    "def get_features(df, corr_parameter_low = 0.4, corr_parameter_high = 0.9, show_plot = False):\n",
    "    \n",
    "    # Computing correlation matrix \n",
    "    correlation_df = df.corr()\n",
    "    \n",
    "    if show_plot:\n",
    "        # Print\n",
    "        plt.figure(figsize = (12, 12))\n",
    "        ax = sns.heatmap(\n",
    "        correlation_df, \n",
    "        vmin = -1, vmax = 1, center = 0,\n",
    "        cmap = sns.diverging_palette(20, 220, n = 10),\n",
    "        square = True, linewidths = 1.0,\n",
    "        )\n",
    "        ax.set_xticklabels(\n",
    "            ax.get_xticklabels(),\n",
    "            rotation = 45,\n",
    "            horizontalalignment = 'right'\n",
    "        )\n",
    "\n",
    "    # Select features\n",
    "    selected_features_list = list(correlation_df[((correlation_df.rul > corr_parameter_low) & (correlation_df.rul < corr_parameter_high)) | \\\n",
    "                                                 ((correlation_df.rul < -corr_parameter_low) & (correlation_df.rul > -corr_parameter_high))].index)\n",
    "    # Append the rul feature\n",
    "    selected_features_list.append('rul')\n",
    "    \n",
    "    # Print selected features\n",
    "    print(selected_features_list)\n",
    "    \n",
    "    # Filtering the data\n",
    "    df = df[selected_features_list]\n",
    "    \n",
    "    return df"
   ]
  },
  {
   "cell_type": "markdown",
   "metadata": {},
   "source": [
    "### Scaling the data functions"
   ]
  },
  {
   "cell_type": "code",
   "execution_count": 127,
   "metadata": {},
   "outputs": [],
   "source": [
    "# Get preprocessing library\n",
    "from sklearn import preprocessing\n",
    "\n",
    "def scale_data(df):\n",
    "    \n",
    "    # Transform data in X_train and y_train\n",
    "    X = df.loc[:, df.columns != 'rul'].values\n",
    "    \n",
    "    try:\n",
    "        y = df['rul'].values\n",
    "    except:\n",
    "        y = None\n",
    "\n",
    "    # Scale X_train\n",
    "    X_scaled = preprocessing.scale(X)\n",
    "    \n",
    "    return X, y, X_scaled"
   ]
  },
  {
   "cell_type": "code",
   "execution_count": 128,
   "metadata": {},
   "outputs": [],
   "source": [
    "from sklearn.preprocessing import Normalizer\n",
    "\n",
    "def normalize_data(df):\n",
    "    \n",
    "    # Transform data in X_train and y_train\n",
    "    X = df.loc[:, df.columns != 'rul'].values\n",
    "    \n",
    "    try:\n",
    "        y = df['rul'].values\n",
    "    except:\n",
    "        y = None\n",
    "\n",
    "    # Scale X_train\n",
    "    transformer = Normalizer().fit(X)\n",
    "    X_scaled = transformer.transform(X)\n",
    "    \n",
    "    return X, y, X_scaled"
   ]
  },
  {
   "cell_type": "markdown",
   "metadata": {},
   "source": [
    "### Linear regression model function"
   ]
  },
  {
   "cell_type": "code",
   "execution_count": 129,
   "metadata": {},
   "outputs": [],
   "source": [
    "# Import linear regression\n",
    "from sklearn.linear_model import LinearRegression\n",
    "\n",
    "# Linear regression function\n",
    "def run_linear_regression(X, y):\n",
    "    reg = LinearRegression().fit(X, y)\n",
    "    print(reg.score(X, y))\n",
    "    return reg"
   ]
  },
  {
   "cell_type": "markdown",
   "metadata": {},
   "source": [
    "### Support vector machine classifier model function"
   ]
  },
  {
   "cell_type": "code",
   "execution_count": 130,
   "metadata": {},
   "outputs": [],
   "source": [
    "# Import SVC\n",
    "from sklearn.svm import SVC\n",
    "\n",
    "# Run SVC model\n",
    "def run_svc(X, y):\n",
    "    clf = SVC()\n",
    "    clf.fit(X, y)\n",
    "    return clf"
   ]
  },
  {
   "cell_type": "markdown",
   "metadata": {},
   "source": [
    "## Naive modeling\n",
    "\n",
    "In this section, a naive model will be made. The modeling is naive because for all the failure modes (all the datasets) the modeling will assume that the same approach could be applied. "
   ]
  },
  {
   "cell_type": "markdown",
   "metadata": {},
   "source": [
    "### General model"
   ]
  },
  {
   "cell_type": "code",
   "execution_count": 131,
   "metadata": {},
   "outputs": [],
   "source": [
    "# Run general model\n",
    "def run_model(X, y, model):\n",
    "    model.fit(X, y)\n",
    "    return model"
   ]
  },
  {
   "cell_type": "markdown",
   "metadata": {},
   "source": [
    "### Lists of datasets to use in general modeling\n",
    "\n",
    "Bellow the datasets are transformed in lists, so we can apply the general models for all of them at once."
   ]
  },
  {
   "cell_type": "code",
   "execution_count": 132,
   "metadata": {},
   "outputs": [],
   "source": [
    "# Saving the data into lists of dataframes\n",
    "train_list = [df_train_fd001, df_train_fd002, df_train_fd003, df_train_fd004]\n",
    "test_list = [df_test_fd001, df_test_fd002, df_test_fd003, df_test_fd004]\n",
    "rul_list = [df_rul_fd001, df_rul_fd002, df_rul_fd003, df_rul_fd004]"
   ]
  },
  {
   "cell_type": "markdown",
   "metadata": {},
   "source": [
    "### Generalization: linear regression, SVC and SVR preliminar tests"
   ]
  },
  {
   "cell_type": "code",
   "execution_count": 133,
   "metadata": {},
   "outputs": [],
   "source": [
    "# Importing train, test and split\n",
    "from sklearn.model_selection import train_test_split\n",
    "from sklearn.metrics import classification_report\n",
    "from sklearn.metrics import r2_score"
   ]
  },
  {
   "cell_type": "code",
   "execution_count": 134,
   "metadata": {},
   "outputs": [],
   "source": [
    "def train_model(train_list, rul_list, model, corr_parameter = 0.5, scaled = True):\n",
    "    \n",
    "    # Creating lists to save results\n",
    "    trained_model_list = []\n",
    "    i = 1\n",
    "    # Run the model for each failure mode -- aka each dataset related to a failure mode\n",
    "    for df_train, df_rul in zip(train_list, rul_list):\n",
    "        print('MODEL FD00{}'.format(i))\n",
    "        # Prepare data with one RUL per line\n",
    "        engine_ruls_df = get_max_cycles_per_unit(df_train)\n",
    "        df_train = calculate_rul(df_train, engine_ruls_df)\n",
    "        # Get best features (naive selection, get all features with corr > 0.5 or < -0.5)\n",
    "        df_train = get_features(df_train, corr_parameter_low = 0.4, corr_parameter_high = 0.9)\n",
    "        # Scaling the data for the model generation\n",
    "        X, y, X_scaled = scale_data(df_train)\n",
    "        # Use scaled data?\n",
    "        if scaled:\n",
    "            X = X_scaled\n",
    "        # Train, test and split\n",
    "        X_train, X_test, y_train, y_test = train_test_split(X, y, test_size = 0.10, random_state = 42)\n",
    "        # Modeling\n",
    "        model = run_model(X_train, y_train, model)\n",
    "        # Predict\n",
    "        y_pred = model.predict(X_test)\n",
    "        # Scores \n",
    "        print('The model has got {} predictions in a range of +/- 40 cycles from true value out of {} (ratio = {:.2f}).'.format((np.abs(y_pred - y_test) <= 40).sum(), len(y_pred), (np.abs(y_pred - y_test) <= 40).sum()/len(y_pred)))\n",
    "        print('The model has got {} predictions in a range of +/- 20 cycles from true value out of {} (ratio = {:.2f}).'.format((np.abs(y_pred - y_test) <= 20).sum(), len(y_pred), (np.abs(y_pred - y_test) <= 20).sum()/len(y_pred)))\n",
    "        print('The model has got {} predictions in a range of +/- 10 cycles from true value out of {} (ratio = {:.2f}).'.format((np.abs(y_pred - y_test) <= 10).sum(), len(y_pred), (np.abs(y_pred - y_test) <= 10).sum()/len(y_pred)))\n",
    "        print('The model has got {} predictions in a range of +/- 5 cycles from true value out of {} (ratio = {:.2f}).'.format((np.abs(y_pred - y_test) <= 5).sum(), len(y_pred), (np.abs(y_pred - y_test) <= 5).sum()/len(y_pred)))\n",
    "        print('\\n')\n",
    "        i += 1\n",
    "        # Saving results in list\n",
    "        trained_model_list.append(model)\n",
    "    \n",
    "    # Return list of trained models\n",
    "    return trained_model_list[0], trained_model_list[1], trained_model_list[2], trained_model_list[3]"
   ]
  },
  {
   "cell_type": "code",
   "execution_count": 135,
   "metadata": {},
   "outputs": [
    {
     "name": "stdout",
     "output_type": "stream",
     "text": [
      "MODEL FD001\n",
      "['time_cycles', 'sensor_2', 'sensor_3', 'sensor_4', 'sensor_7', 'sensor_8', 'sensor_11', 'sensor_12', 'sensor_13', 'sensor_15', 'sensor_17', 'sensor_20', 'sensor_21', 'rul']\n",
      "The model has got 1506 predictions in a range of +/- 40 cycles from true value out of 2064 (ratio = 0.73).\n",
      "The model has got 829 predictions in a range of +/- 20 cycles from true value out of 2064 (ratio = 0.40).\n",
      "The model has got 449 predictions in a range of +/- 10 cycles from true value out of 2064 (ratio = 0.22).\n",
      "The model has got 220 predictions in a range of +/- 5 cycles from true value out of 2064 (ratio = 0.11).\n",
      "\n",
      "\n",
      "MODEL FD002\n",
      "['time_cycles', 'rul']\n",
      "The model has got 3314 predictions in a range of +/- 40 cycles from true value out of 5376 (ratio = 0.62).\n",
      "The model has got 1772 predictions in a range of +/- 20 cycles from true value out of 5376 (ratio = 0.33).\n",
      "The model has got 879 predictions in a range of +/- 10 cycles from true value out of 5376 (ratio = 0.16).\n",
      "The model has got 469 predictions in a range of +/- 5 cycles from true value out of 5376 (ratio = 0.09).\n",
      "\n",
      "\n",
      "MODEL FD003\n",
      "['time_cycles', 'sensor_2', 'sensor_3', 'sensor_4', 'sensor_8', 'sensor_9', 'sensor_11', 'sensor_13', 'sensor_14', 'sensor_17', 'rul']\n",
      "The model has got 1355 predictions in a range of +/- 40 cycles from true value out of 2472 (ratio = 0.55).\n",
      "The model has got 712 predictions in a range of +/- 20 cycles from true value out of 2472 (ratio = 0.29).\n",
      "The model has got 362 predictions in a range of +/- 10 cycles from true value out of 2472 (ratio = 0.15).\n",
      "The model has got 175 predictions in a range of +/- 5 cycles from true value out of 2472 (ratio = 0.07).\n",
      "\n",
      "\n",
      "MODEL FD004\n",
      "['time_cycles', 'rul']\n",
      "The model has got 2526 predictions in a range of +/- 40 cycles from true value out of 6125 (ratio = 0.41).\n",
      "The model has got 1233 predictions in a range of +/- 20 cycles from true value out of 6125 (ratio = 0.20).\n",
      "The model has got 616 predictions in a range of +/- 10 cycles from true value out of 6125 (ratio = 0.10).\n",
      "The model has got 304 predictions in a range of +/- 5 cycles from true value out of 6125 (ratio = 0.05).\n",
      "\n",
      "\n"
     ]
    }
   ],
   "source": [
    "# Run of linear regression Model with UNscaled data\n",
    "model = LinearRegression()\n",
    "reg_model_fd001, reg_model_fd002, reg_model_fd003, reg_model_fd004 = train_model(train_list, \n",
    "                                                                                 rul_list, \n",
    "                                                                                 model = model, \n",
    "                                                                                 corr_parameter = 0.5, \n",
    "                                                                                 scaled = False)"
   ]
  },
  {
   "cell_type": "code",
   "execution_count": 28,
   "metadata": {},
   "outputs": [
    {
     "name": "stdout",
     "output_type": "stream",
     "text": [
      "MODEL FD001\n",
      "['time_cycles', 'sensor_2', 'sensor_3', 'sensor_4', 'sensor_7', 'sensor_8', 'sensor_11', 'sensor_12', 'sensor_13', 'sensor_15', 'sensor_17', 'sensor_20', 'sensor_21', 'rul']\n",
      "The model has got 1506 predictions in a range of +/- 40 cycles from true value out of 2064 (ratio = 0.73).\n",
      "The model has got 829 predictions in a range of +/- 20 cycles from true value out of 2064 (ratio = 0.40).\n",
      "The model has got 449 predictions in a range of +/- 10 cycles from true value out of 2064 (ratio = 0.22).\n",
      "The model has got 220 predictions in a range of +/- 5 cycles from true value out of 2064 (ratio = 0.11).\n",
      "\n",
      "\n",
      "MODEL FD002\n",
      "['time_cycles', 'rul']\n",
      "The model has got 3314 predictions in a range of +/- 40 cycles from true value out of 5376 (ratio = 0.62).\n",
      "The model has got 1772 predictions in a range of +/- 20 cycles from true value out of 5376 (ratio = 0.33).\n",
      "The model has got 879 predictions in a range of +/- 10 cycles from true value out of 5376 (ratio = 0.16).\n",
      "The model has got 469 predictions in a range of +/- 5 cycles from true value out of 5376 (ratio = 0.09).\n",
      "\n",
      "\n",
      "MODEL FD003\n",
      "['time_cycles', 'sensor_2', 'sensor_3', 'sensor_4', 'sensor_8', 'sensor_9', 'sensor_11', 'sensor_13', 'sensor_14', 'sensor_17', 'rul']\n",
      "The model has got 1355 predictions in a range of +/- 40 cycles from true value out of 2472 (ratio = 0.55).\n",
      "The model has got 712 predictions in a range of +/- 20 cycles from true value out of 2472 (ratio = 0.29).\n",
      "The model has got 362 predictions in a range of +/- 10 cycles from true value out of 2472 (ratio = 0.15).\n",
      "The model has got 175 predictions in a range of +/- 5 cycles from true value out of 2472 (ratio = 0.07).\n",
      "\n",
      "\n",
      "MODEL FD004\n",
      "['time_cycles', 'rul']\n",
      "The model has got 2526 predictions in a range of +/- 40 cycles from true value out of 6125 (ratio = 0.41).\n",
      "The model has got 1233 predictions in a range of +/- 20 cycles from true value out of 6125 (ratio = 0.20).\n",
      "The model has got 616 predictions in a range of +/- 10 cycles from true value out of 6125 (ratio = 0.10).\n",
      "The model has got 304 predictions in a range of +/- 5 cycles from true value out of 6125 (ratio = 0.05).\n",
      "\n",
      "\n"
     ]
    }
   ],
   "source": [
    "# Run of linear regression Model with scaled data\n",
    "model = LinearRegression()\n",
    "reg_model_fd001, reg_model_fd002, reg_model_fd003, reg_model_fd004 = train_model(train_list, \n",
    "                                                                                 rul_list, \n",
    "                                                                                 model = model, \n",
    "                                                                                 corr_parameter = 0.5, \n",
    "                                                                                 scaled = True)"
   ]
  },
  {
   "cell_type": "code",
   "execution_count": 29,
   "metadata": {},
   "outputs": [
    {
     "name": "stdout",
     "output_type": "stream",
     "text": [
      "MODEL FD001\n",
      "['time_cycles', 'sensor_2', 'sensor_3', 'sensor_4', 'sensor_7', 'sensor_8', 'sensor_11', 'sensor_12', 'sensor_13', 'sensor_15', 'sensor_17', 'sensor_20', 'sensor_21', 'rul']\n",
      "The model has got 918 predictions in a range of +/- 40 cycles from true value out of 2064 (ratio = 0.44).\n",
      "The model has got 458 predictions in a range of +/- 20 cycles from true value out of 2064 (ratio = 0.22).\n",
      "The model has got 248 predictions in a range of +/- 10 cycles from true value out of 2064 (ratio = 0.12).\n",
      "The model has got 136 predictions in a range of +/- 5 cycles from true value out of 2064 (ratio = 0.07).\n",
      "\n",
      "\n",
      "MODEL FD002\n",
      "['time_cycles', 'rul']\n",
      "The model has got 3654 predictions in a range of +/- 40 cycles from true value out of 5376 (ratio = 0.68).\n",
      "The model has got 2166 predictions in a range of +/- 20 cycles from true value out of 5376 (ratio = 0.40).\n",
      "The model has got 1119 predictions in a range of +/- 10 cycles from true value out of 5376 (ratio = 0.21).\n",
      "The model has got 616 predictions in a range of +/- 5 cycles from true value out of 5376 (ratio = 0.11).\n",
      "\n",
      "\n",
      "MODEL FD003\n",
      "['time_cycles', 'sensor_2', 'sensor_3', 'sensor_4', 'sensor_8', 'sensor_9', 'sensor_11', 'sensor_13', 'sensor_14', 'sensor_17', 'rul']\n",
      "The model has got 425 predictions in a range of +/- 40 cycles from true value out of 2472 (ratio = 0.17).\n",
      "The model has got 241 predictions in a range of +/- 20 cycles from true value out of 2472 (ratio = 0.10).\n",
      "The model has got 150 predictions in a range of +/- 10 cycles from true value out of 2472 (ratio = 0.06).\n",
      "The model has got 105 predictions in a range of +/- 5 cycles from true value out of 2472 (ratio = 0.04).\n",
      "\n",
      "\n",
      "MODEL FD004\n",
      "['time_cycles', 'rul']\n",
      "The model has got 2630 predictions in a range of +/- 40 cycles from true value out of 6125 (ratio = 0.43).\n",
      "The model has got 1504 predictions in a range of +/- 20 cycles from true value out of 6125 (ratio = 0.25).\n",
      "The model has got 878 predictions in a range of +/- 10 cycles from true value out of 6125 (ratio = 0.14).\n",
      "The model has got 463 predictions in a range of +/- 5 cycles from true value out of 6125 (ratio = 0.08).\n",
      "\n",
      "\n"
     ]
    }
   ],
   "source": [
    "# Run of SVC model with UNscaled data\n",
    "model = SVC()\n",
    "reg_model_fd001, reg_model_fd002, reg_model_fd003, reg_model_fd004 = train_model(train_list, \n",
    "                                                                                 rul_list, \n",
    "                                                                                 model = model, \n",
    "                                                                                 corr_parameter = 0.5, \n",
    "                                                                                 scaled = False)"
   ]
  },
  {
   "cell_type": "code",
   "execution_count": 30,
   "metadata": {},
   "outputs": [
    {
     "name": "stdout",
     "output_type": "stream",
     "text": [
      "MODEL FD001\n",
      "['time_cycles', 'sensor_2', 'sensor_3', 'sensor_4', 'sensor_7', 'sensor_8', 'sensor_11', 'sensor_12', 'sensor_13', 'sensor_15', 'sensor_17', 'sensor_20', 'sensor_21', 'rul']\n",
      "The model has got 1551 predictions in a range of +/- 40 cycles from true value out of 2064 (ratio = 0.75).\n",
      "The model has got 1070 predictions in a range of +/- 20 cycles from true value out of 2064 (ratio = 0.52).\n",
      "The model has got 696 predictions in a range of +/- 10 cycles from true value out of 2064 (ratio = 0.34).\n",
      "The model has got 421 predictions in a range of +/- 5 cycles from true value out of 2064 (ratio = 0.20).\n",
      "\n",
      "\n",
      "MODEL FD002\n",
      "['time_cycles', 'rul']\n",
      "The model has got 3654 predictions in a range of +/- 40 cycles from true value out of 5376 (ratio = 0.68).\n",
      "The model has got 2166 predictions in a range of +/- 20 cycles from true value out of 5376 (ratio = 0.40).\n",
      "The model has got 1119 predictions in a range of +/- 10 cycles from true value out of 5376 (ratio = 0.21).\n",
      "The model has got 616 predictions in a range of +/- 5 cycles from true value out of 5376 (ratio = 0.11).\n",
      "\n",
      "\n",
      "MODEL FD003\n",
      "['time_cycles', 'sensor_2', 'sensor_3', 'sensor_4', 'sensor_8', 'sensor_9', 'sensor_11', 'sensor_13', 'sensor_14', 'sensor_17', 'rul']\n",
      "The model has got 1641 predictions in a range of +/- 40 cycles from true value out of 2472 (ratio = 0.66).\n",
      "The model has got 1109 predictions in a range of +/- 20 cycles from true value out of 2472 (ratio = 0.45).\n",
      "The model has got 735 predictions in a range of +/- 10 cycles from true value out of 2472 (ratio = 0.30).\n",
      "The model has got 434 predictions in a range of +/- 5 cycles from true value out of 2472 (ratio = 0.18).\n",
      "\n",
      "\n",
      "MODEL FD004\n",
      "['time_cycles', 'rul']\n",
      "The model has got 2630 predictions in a range of +/- 40 cycles from true value out of 6125 (ratio = 0.43).\n",
      "The model has got 1504 predictions in a range of +/- 20 cycles from true value out of 6125 (ratio = 0.25).\n",
      "The model has got 878 predictions in a range of +/- 10 cycles from true value out of 6125 (ratio = 0.14).\n",
      "The model has got 463 predictions in a range of +/- 5 cycles from true value out of 6125 (ratio = 0.08).\n",
      "\n",
      "\n"
     ]
    }
   ],
   "source": [
    "# Run of SVC model with scaled data\n",
    "model = SVC()\n",
    "reg_model_fd001, reg_model_fd002, reg_model_fd003, reg_model_fd004 = train_model(train_list, \n",
    "                                                                                 rul_list, \n",
    "                                                                                 model = model, \n",
    "                                                                                 corr_parameter = 0.5, \n",
    "                                                                                 scaled = True)"
   ]
  },
  {
   "cell_type": "code",
   "execution_count": 31,
   "metadata": {},
   "outputs": [
    {
     "name": "stdout",
     "output_type": "stream",
     "text": [
      "MODEL FD001\n",
      "['time_cycles', 'sensor_2', 'sensor_3', 'sensor_4', 'sensor_7', 'sensor_8', 'sensor_11', 'sensor_12', 'sensor_13', 'sensor_15', 'sensor_17', 'sensor_20', 'sensor_21', 'rul']\n",
      "The model has got 1633 predictions in a range of +/- 40 cycles from true value out of 2064 (ratio = 0.79).\n",
      "The model has got 1183 predictions in a range of +/- 20 cycles from true value out of 2064 (ratio = 0.57).\n",
      "The model has got 739 predictions in a range of +/- 10 cycles from true value out of 2064 (ratio = 0.36).\n",
      "The model has got 427 predictions in a range of +/- 5 cycles from true value out of 2064 (ratio = 0.21).\n",
      "\n",
      "\n",
      "MODEL FD002\n",
      "['time_cycles', 'rul']\n",
      "The model has got 3715 predictions in a range of +/- 40 cycles from true value out of 5376 (ratio = 0.69).\n",
      "The model has got 2188 predictions in a range of +/- 20 cycles from true value out of 5376 (ratio = 0.41).\n",
      "The model has got 1275 predictions in a range of +/- 10 cycles from true value out of 5376 (ratio = 0.24).\n",
      "The model has got 666 predictions in a range of +/- 5 cycles from true value out of 5376 (ratio = 0.12).\n",
      "\n",
      "\n",
      "MODEL FD003\n",
      "['time_cycles', 'sensor_2', 'sensor_3', 'sensor_4', 'sensor_8', 'sensor_9', 'sensor_11', 'sensor_13', 'sensor_14', 'sensor_17', 'rul']\n",
      "The model has got 1738 predictions in a range of +/- 40 cycles from true value out of 2472 (ratio = 0.70).\n",
      "The model has got 1222 predictions in a range of +/- 20 cycles from true value out of 2472 (ratio = 0.49).\n",
      "The model has got 808 predictions in a range of +/- 10 cycles from true value out of 2472 (ratio = 0.33).\n",
      "The model has got 477 predictions in a range of +/- 5 cycles from true value out of 2472 (ratio = 0.19).\n",
      "\n",
      "\n",
      "MODEL FD004\n",
      "['time_cycles', 'rul']\n",
      "The model has got 2812 predictions in a range of +/- 40 cycles from true value out of 6125 (ratio = 0.46).\n",
      "The model has got 1348 predictions in a range of +/- 20 cycles from true value out of 6125 (ratio = 0.22).\n",
      "The model has got 694 predictions in a range of +/- 10 cycles from true value out of 6125 (ratio = 0.11).\n",
      "The model has got 291 predictions in a range of +/- 5 cycles from true value out of 6125 (ratio = 0.05).\n",
      "\n",
      "\n"
     ]
    }
   ],
   "source": [
    "from sklearn.svm import SVR\n",
    "# Run of SVC model with scaled data\n",
    "model = SVR(kernel = 'rbf', C = 100, gamma = 0.1, epsilon = 0.1)\n",
    "reg_model_fd001, reg_model_fd002, reg_model_fd003, reg_model_fd004 = train_model(train_list, \n",
    "                                                                                 rul_list, \n",
    "                                                                                 model = model, \n",
    "                                                                                 corr_parameter = 0.5, \n",
    "                                                                                 scaled = True)"
   ]
  },
  {
   "cell_type": "code",
   "execution_count": 136,
   "metadata": {},
   "outputs": [
    {
     "name": "stdout",
     "output_type": "stream",
     "text": [
      "MODEL FD001\n",
      "['time_cycles', 'sensor_2', 'sensor_3', 'sensor_4', 'sensor_7', 'sensor_8', 'sensor_11', 'sensor_12', 'sensor_13', 'sensor_15', 'sensor_17', 'sensor_20', 'sensor_21', 'rul']\n",
      "The model has got 1524 predictions in a range of +/- 40 cycles from true value out of 2064 (ratio = 0.74).\n",
      "The model has got 972 predictions in a range of +/- 20 cycles from true value out of 2064 (ratio = 0.47).\n",
      "The model has got 547 predictions in a range of +/- 10 cycles from true value out of 2064 (ratio = 0.27).\n",
      "The model has got 280 predictions in a range of +/- 5 cycles from true value out of 2064 (ratio = 0.14).\n",
      "\n",
      "\n",
      "MODEL FD002\n",
      "['time_cycles', 'rul']\n",
      "The model has got 3712 predictions in a range of +/- 40 cycles from true value out of 5376 (ratio = 0.69).\n",
      "The model has got 2186 predictions in a range of +/- 20 cycles from true value out of 5376 (ratio = 0.41).\n",
      "The model has got 1256 predictions in a range of +/- 10 cycles from true value out of 5376 (ratio = 0.23).\n",
      "The model has got 649 predictions in a range of +/- 5 cycles from true value out of 5376 (ratio = 0.12).\n",
      "\n",
      "\n",
      "MODEL FD003\n",
      "['time_cycles', 'sensor_2', 'sensor_3', 'sensor_4', 'sensor_8', 'sensor_9', 'sensor_11', 'sensor_13', 'sensor_14', 'sensor_17', 'rul']\n",
      "The model has got 1080 predictions in a range of +/- 40 cycles from true value out of 2472 (ratio = 0.44).\n",
      "The model has got 590 predictions in a range of +/- 20 cycles from true value out of 2472 (ratio = 0.24).\n",
      "The model has got 295 predictions in a range of +/- 10 cycles from true value out of 2472 (ratio = 0.12).\n",
      "The model has got 163 predictions in a range of +/- 5 cycles from true value out of 2472 (ratio = 0.07).\n",
      "\n",
      "\n",
      "MODEL FD004\n",
      "['time_cycles', 'rul']\n",
      "The model has got 2784 predictions in a range of +/- 40 cycles from true value out of 6125 (ratio = 0.45).\n",
      "The model has got 1353 predictions in a range of +/- 20 cycles from true value out of 6125 (ratio = 0.22).\n",
      "The model has got 671 predictions in a range of +/- 10 cycles from true value out of 6125 (ratio = 0.11).\n",
      "The model has got 292 predictions in a range of +/- 5 cycles from true value out of 6125 (ratio = 0.05).\n",
      "\n",
      "\n"
     ]
    }
   ],
   "source": [
    "from sklearn.svm import SVR\n",
    "# Run of SVC model with UNscaled data\n",
    "model = SVR(kernel = 'rbf', C = 100, gamma = 0.1, epsilon = 0.1)\n",
    "reg_model_fd001, reg_model_fd002, reg_model_fd003, reg_model_fd004 = train_model(train_list, \n",
    "                                                                                 rul_list, \n",
    "                                                                                 model = model, \n",
    "                                                                                 corr_parameter = 0.5, \n",
    "                                                                                 scaled = False)"
   ]
  }
 ],
 "metadata": {
  "kernelspec": {
   "display_name": "Python 3",
   "language": "python",
   "name": "python3"
  },
  "language_info": {
   "codemirror_mode": {
    "name": "ipython",
    "version": 3
   },
   "file_extension": ".py",
   "mimetype": "text/x-python",
   "name": "python",
   "nbconvert_exporter": "python",
   "pygments_lexer": "ipython3",
   "version": "3.7.6"
  }
 },
 "nbformat": 4,
 "nbformat_minor": 4
}
