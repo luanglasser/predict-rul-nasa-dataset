{
 "cells": [
  {
   "cell_type": "markdown",
   "metadata": {},
   "source": [
    "# Estimating engine remaining useful life\n",
    "\n",
    "Author: Luan Glasser\n",
    "\n",
    "E-mail: luan.glasser@gmail.com"
   ]
  },
  {
   "cell_type": "markdown",
   "metadata": {},
   "source": [
    "## Information taken from C-MAPSS\n",
    "\n",
    ">**Datasets**\n",
    ">\n",
    ">Data Set: FD001 |\n",
    ">Train trajectories: 100 | \n",
    ">Test trajectories: 100 | \n",
    ">Conditions: ONE (Sea Level) | \n",
    ">Fault Modes: ONE (HPC Degradation)\n",
    ">\n",
    ">Data Set: FD002 | \n",
    ">Train trajectories: 260 | \n",
    ">Test trajectories: 259 | \n",
    ">Conditions: SIX | \n",
    ">Fault Modes: ONE (HPC Degradation) \n",
    ">\n",
    ">Data Set: FD003 | \n",
    ">Train trajectories: 100 | \n",
    ">Test trajectories: 100 | \n",
    ">Conditions: ONE (Sea Level) | \n",
    ">Fault Modes: TWO (HPC Degradation, Fan Degradation) \n",
    ">\n",
    ">Data Set: FD004 | \n",
    ">Train trajectories: 248 | \n",
    ">Test trajectories: 249 | \n",
    ">Conditions: SIX | \n",
    ">Fault Modes: TWO (HPC Degradation, Fan Degradation)  \n",
    ">\n",
    ">\n",
    ">\n",
    ">**Experimental Scenario**\n",
    ">\n",
    ">Data sets consists of multiple multivariate time series. Each data set is further divided into training and test subsets. Each time series is from a different engine – i.e., the data can be considered to be from a fleet of engines of the same type. Each engine starts with different degrees of initial wear and manufacturing variation which is unknown to the user. This wear and variation is considered normal, i.e., it is not considered a fault condition. There are three operational settings that have a substantial effect on engine performance. These settings are also included in the data. The data is contaminated with sensor noise.\n",
    ">\n",
    ">The engine is operating normally at the start of each time series, and develops a fault at some point during the series. In the training set, the fault grows in magnitude until system failure. In the test set, the time series ends some time prior to system failure. The objective of the competition is to predict the number of remaining operational cycles before failure in the test set, i.e., the number of operational cycles after the last cycle that the engine will continue to operate. Also provided a vector of true Remaining Useful Life (RUL) values for the test data.\n",
    ">\n",
    ">The data are provided as a zip-compressed text file with 26 columns of numbers, separated by spaces. Each row is a snapshot of data taken during a single operational cycle, each column is a different variable. The columns correspond to:\n",
    ">\n",
    ">1)\tunit number\n",
    ">\n",
    ">2)\ttime, in cycles\n",
    ">\n",
    ">3)\toperational setting 1\n",
    ">\n",
    ">4)\toperational setting 2\n",
    ">\n",
    ">5)\toperational setting 3\n",
    ">\n",
    ">6)\tsensor measurement  1\n",
    ">\n",
    ">7)\tsensor measurement  2\n",
    ">\n",
    ">...\n",
    ">\n",
    ">26)\tsensor measurement  20\n",
    ">\n",
    ">\n",
    ">\n",
    ">**Reference** \n",
    ">\n",
    ">A. Saxena, K. Goebel, D. Simon, and N. Eklund, “Damage Propagation Modeling for Aircraft Engine Run-to-Failure Simulation”, in the Proceedings of the Ist International Conference on Prognostics and Health Management (PHM08), Denver CO, Oct 2008.\n",
    "\n",
    "The sensors features in the datasets correspond to the table bellow.\n",
    "\n",
    "| Index \t|               Predictor name               \t|   Unit  \t|\n",
    "|:-----:\t|:------------------------------------------:\t|:-------:\t|\n",
    "|   1   \t| Total temperature at fan inlet             \t|    Ko   \t|\n",
    "|   2   \t| Total temperature at LPC outlet            \t|    Ko   \t|\n",
    "|   3   \t| Total temperature at HPC outlet            \t|    Ko   \t|\n",
    "|   4   \t| Total temperature at LPT outlet            \t|    Ko   \t|\n",
    "|   5   \t| Pressure at fan inlet                      \t|   psia  \t|\n",
    "|   6   \t| Total pressure in bypass-duct              \t|   psia  \t|\n",
    "|   7   \t| Total pressure HPC outlet                  \t|   psia  \t|\n",
    "|   8   \t| Physical fan speed                         \t|   rpm   \t|\n",
    "|   9   \t| Physical core speed                        \t|   rpm   \t|\n",
    "|   10  \t| Engine pressure ratio                      \t|    -    \t|\n",
    "|   11  \t| Static pressure at HPC outlet              \t|   psia  \t|\n",
    "|   12  \t| Ratio of fuel flow to “16”                 \t| pps/psi \t|\n",
    "|   13  \t| Corrected fan speed                        \t|   rpm   \t|\n",
    "|   14  \t| Corrected core speed                       \t|   rpm   \t|\n",
    "|   15  \t| Bypass ratio  – 16 Burner fuel-air   ratio \t|    –    \t|\n",
    "|   17  \t| Bleed Bleed enthalpy                       \t|    –    \t|\n",
    "|   18  \t| Demanded fan speed                         \t|   rpm   \t|\n",
    "|   19  \t| Demanded core fan speed                    \t|   rpm   \t|\n",
    "|   20  \t| HPT coolant bleed                          \t|  lbm/s  \t|\n",
    "|   21  \t| LPT coolant bleed                          \t|  lbm/s  \t|\n",
    "\n",
    "## General libraries"
   ]
  },
  {
   "cell_type": "code",
   "execution_count": 470,
   "metadata": {},
   "outputs": [],
   "source": [
    "# Import libraries\n",
    "import pandas as pd\n",
    "pd.set_option('display.max_columns', None)\n",
    "pd.set_option('display.max_rows', None)\n",
    "import numpy as np\n",
    "import matplotlib.pyplot as plt\n",
    "%matplotlib inline\n",
    "import seaborn as sns"
   ]
  },
  {
   "cell_type": "markdown",
   "metadata": {},
   "source": [
    "## Loading data"
   ]
  },
  {
   "cell_type": "code",
   "execution_count": 471,
   "metadata": {},
   "outputs": [],
   "source": [
    "# Load the training data\n",
    "df_train_fd001 = pd.read_csv('../dataset_nasa/train_FD001.txt', sep = \" \", header = None).drop(columns = [26, 27])\n",
    "df_train_fd002 = pd.read_csv('../dataset_nasa/train_FD002.txt', sep = \" \", header = None).drop(columns = [26, 27])\n",
    "df_train_fd003 = pd.read_csv('../dataset_nasa/train_FD003.txt', sep = \" \", header = None).drop(columns = [26, 27])\n",
    "df_train_fd004 = pd.read_csv('../dataset_nasa/train_FD004.txt', sep = \" \", header = None).drop(columns = [26, 27])\n",
    "\n",
    "# Load the test data\n",
    "df_test_fd001 = pd.read_csv('../dataset_nasa/test_FD001.txt', sep = \" \", header = None).drop(columns = [26, 27])\n",
    "df_test_fd002 = pd.read_csv('../dataset_nasa/test_FD002.txt', sep = \" \", header = None).drop(columns = [26, 27])\n",
    "df_test_fd003 = pd.read_csv('../dataset_nasa/test_FD003.txt', sep = \" \", header = None).drop(columns = [26, 27])\n",
    "df_test_fd004 = pd.read_csv('../dataset_nasa/test_FD004.txt', sep = \" \", header = None).drop(columns = [26, 27])\n",
    "\n",
    "# Load the RUL data\n",
    "df_rul_fd001 = pd.read_csv('../dataset_nasa/RUL_FD001.txt', sep = \" \", header = None).drop(columns = [1])\n",
    "df_rul_fd002 = pd.read_csv('../dataset_nasa/RUL_FD002.txt', sep = \" \", header = None).drop(columns = [1])\n",
    "df_rul_fd003 = pd.read_csv('../dataset_nasa/RUL_FD003.txt', sep = \" \", header = None).drop(columns = [1])\n",
    "df_rul_fd004 = pd.read_csv('../dataset_nasa/RUL_FD004.txt', sep = \" \", header = None).drop(columns = [1])"
   ]
  },
  {
   "cell_type": "markdown",
   "metadata": {},
   "source": [
    "## Renaming features"
   ]
  },
  {
   "cell_type": "code",
   "execution_count": 472,
   "metadata": {},
   "outputs": [],
   "source": [
    "# Define names\n",
    "names_list = ['unit_no', 'time_cycles', 'op_set_1', 'op_set_2', 'op_set_3', \n",
    "        'sensor_1', 'sensor_2', 'sensor_3', 'sensor_4', 'sensor_5', \n",
    "        'sensor_6', 'sensor_7', 'sensor_8', 'sensor_9', 'sensor_10', \n",
    "        'sensor_11', 'sensor_12', 'sensor_13', 'sensor_14', 'sensor_15', \n",
    "        'sensor_16', 'sensor_17', 'sensor_18', 'sensor_19', 'sensor_20', \n",
    "        'sensor_21']\n",
    "\n",
    "# Change train features\n",
    "df_train_fd001.columns = names_list\n",
    "df_train_fd002.columns = names_list\n",
    "df_train_fd003.columns = names_list\n",
    "df_train_fd004.columns = names_list\n",
    "\n",
    "\n",
    "# Change test features\n",
    "df_test_fd001.columns = names_list\n",
    "df_test_fd002.columns = names_list\n",
    "df_test_fd003.columns = names_list\n",
    "df_test_fd004.columns = names_list\n",
    "\n",
    "# Change RUL feature\n",
    "names_list = ['rul']\n",
    "df_rul_fd001.columns = names_list\n",
    "df_rul_fd002.columns = names_list\n",
    "df_rul_fd003.columns = names_list\n",
    "df_rul_fd004.columns = names_list"
   ]
  },
  {
   "cell_type": "markdown",
   "metadata": {},
   "source": [
    "## Starting point\n",
    "\n",
    "The modeling will be implemented using the _fd001 dataframes, for the sake of simplicity. It will be easy to change the dataframes after that."
   ]
  },
  {
   "cell_type": "code",
   "execution_count": 473,
   "metadata": {},
   "outputs": [],
   "source": [
    "df_train = df_train_fd001.copy()\n",
    "df_test = df_test_fd001.copy()\n",
    "df_rul = df_rul_fd001.copy()"
   ]
  },
  {
   "cell_type": "markdown",
   "metadata": {},
   "source": [
    "## Data preparation: basic functions\n",
    "\n",
    "First let's create the functions for generating labels for every line of the training datasets. The labels are for each line the actual operating cycles subtracted from the failure cycles."
   ]
  },
  {
   "cell_type": "markdown",
   "metadata": {},
   "source": [
    "### Assigning RUL"
   ]
  },
  {
   "cell_type": "code",
   "execution_count": 474,
   "metadata": {},
   "outputs": [],
   "source": [
    "# Group by engine number\n",
    "def get_max_cycles_per_unit(df):\n",
    "    df = df.groupby('unit_no', as_index = False).max()[['unit_no', 'time_cycles']]\n",
    "    df.columns = ['engine_no', 'max']\n",
    "    return df\n",
    "\n",
    "# Calculate the RUL for the training dataset\n",
    "def calculate_rul(df, rul_df):\n",
    "    df = df.merge(rul_df, how = 'left', left_on = 'unit_no', right_on = 'engine_no')\n",
    "    df['rul'] = df['max'] - df['time_cycles']\n",
    "    df =df.drop(columns = ['engine_no', 'max'])\n",
    "    return df\n",
    "\n",
    "def assign_rul(df):\n",
    "    rul_df = get_max_cycles_per_unit(df)\n",
    "    df = calculate_rul(df, rul_df)\n",
    "    return df\n",
    "\n",
    "def correct_df_test_rul(df_test, df_rul):\n",
    "    df_rul.columns = ['rul_to_increment']\n",
    "    df_test = df_test.merge(df_rul, how = 'left', left_on = 'unit_no', right_on = df_rul.index)\n",
    "    df_test['rul'] = df_test.rul + df_test.rul_to_increment\n",
    "    df_test = df_test.drop(columns = ['rul_to_increment'])\n",
    "    return df_test"
   ]
  },
  {
   "cell_type": "code",
   "execution_count": 475,
   "metadata": {},
   "outputs": [],
   "source": [
    "# Determine RUL\n",
    "df_train = assign_rul(df_train)\n",
    "\n",
    "# Attention! The \"RUL\" calculated here is not the actual RUL. We just used the assign_rul function for simplicity,\n",
    "# but we are yet to increment these values with the data inside df_rul. It needs to be done because in the test set\n",
    "# the engine does not run until failure, but until some cycle before failure. Hence, the df_rul provides information\n",
    "# about how many cycles the engines were yet to operate.\n",
    "df_test = assign_rul(df_test)"
   ]
  },
  {
   "cell_type": "code",
   "execution_count": 476,
   "metadata": {},
   "outputs": [],
   "source": [
    "df_test = correct_df_test_rul(df_test, df_rul)"
   ]
  },
  {
   "cell_type": "code",
   "execution_count": 477,
   "metadata": {
    "scrolled": false
   },
   "outputs": [
    {
     "data": {
      "text/html": [
       "<div>\n",
       "<style scoped>\n",
       "    .dataframe tbody tr th:only-of-type {\n",
       "        vertical-align: middle;\n",
       "    }\n",
       "\n",
       "    .dataframe tbody tr th {\n",
       "        vertical-align: top;\n",
       "    }\n",
       "\n",
       "    .dataframe thead th {\n",
       "        text-align: right;\n",
       "    }\n",
       "</style>\n",
       "<table border=\"1\" class=\"dataframe\">\n",
       "  <thead>\n",
       "    <tr style=\"text-align: right;\">\n",
       "      <th></th>\n",
       "      <th>unit_no</th>\n",
       "      <th>time_cycles</th>\n",
       "      <th>op_set_1</th>\n",
       "      <th>op_set_2</th>\n",
       "      <th>op_set_3</th>\n",
       "      <th>sensor_1</th>\n",
       "      <th>sensor_2</th>\n",
       "      <th>sensor_3</th>\n",
       "      <th>sensor_4</th>\n",
       "      <th>sensor_5</th>\n",
       "      <th>sensor_6</th>\n",
       "      <th>sensor_7</th>\n",
       "      <th>sensor_8</th>\n",
       "      <th>sensor_9</th>\n",
       "      <th>sensor_10</th>\n",
       "      <th>sensor_11</th>\n",
       "      <th>sensor_12</th>\n",
       "      <th>sensor_13</th>\n",
       "      <th>sensor_14</th>\n",
       "      <th>sensor_15</th>\n",
       "      <th>sensor_16</th>\n",
       "      <th>sensor_17</th>\n",
       "      <th>sensor_18</th>\n",
       "      <th>sensor_19</th>\n",
       "      <th>sensor_20</th>\n",
       "      <th>sensor_21</th>\n",
       "      <th>rul</th>\n",
       "    </tr>\n",
       "  </thead>\n",
       "  <tbody>\n",
       "    <tr>\n",
       "      <th>0</th>\n",
       "      <td>1</td>\n",
       "      <td>1</td>\n",
       "      <td>0.0023</td>\n",
       "      <td>0.0003</td>\n",
       "      <td>100.0</td>\n",
       "      <td>518.67</td>\n",
       "      <td>643.02</td>\n",
       "      <td>1585.29</td>\n",
       "      <td>1398.21</td>\n",
       "      <td>14.62</td>\n",
       "      <td>21.61</td>\n",
       "      <td>553.90</td>\n",
       "      <td>2388.04</td>\n",
       "      <td>9050.17</td>\n",
       "      <td>1.3</td>\n",
       "      <td>47.20</td>\n",
       "      <td>521.72</td>\n",
       "      <td>2388.03</td>\n",
       "      <td>8125.55</td>\n",
       "      <td>8.4052</td>\n",
       "      <td>0.03</td>\n",
       "      <td>392</td>\n",
       "      <td>2388</td>\n",
       "      <td>100.0</td>\n",
       "      <td>38.86</td>\n",
       "      <td>23.3735</td>\n",
       "      <td>289.0</td>\n",
       "    </tr>\n",
       "    <tr>\n",
       "      <th>1</th>\n",
       "      <td>1</td>\n",
       "      <td>2</td>\n",
       "      <td>-0.0027</td>\n",
       "      <td>-0.0003</td>\n",
       "      <td>100.0</td>\n",
       "      <td>518.67</td>\n",
       "      <td>641.71</td>\n",
       "      <td>1588.45</td>\n",
       "      <td>1395.42</td>\n",
       "      <td>14.62</td>\n",
       "      <td>21.61</td>\n",
       "      <td>554.85</td>\n",
       "      <td>2388.01</td>\n",
       "      <td>9054.42</td>\n",
       "      <td>1.3</td>\n",
       "      <td>47.50</td>\n",
       "      <td>522.16</td>\n",
       "      <td>2388.06</td>\n",
       "      <td>8139.62</td>\n",
       "      <td>8.3803</td>\n",
       "      <td>0.03</td>\n",
       "      <td>393</td>\n",
       "      <td>2388</td>\n",
       "      <td>100.0</td>\n",
       "      <td>39.02</td>\n",
       "      <td>23.3916</td>\n",
       "      <td>288.0</td>\n",
       "    </tr>\n",
       "    <tr>\n",
       "      <th>2</th>\n",
       "      <td>1</td>\n",
       "      <td>3</td>\n",
       "      <td>0.0003</td>\n",
       "      <td>0.0001</td>\n",
       "      <td>100.0</td>\n",
       "      <td>518.67</td>\n",
       "      <td>642.46</td>\n",
       "      <td>1586.94</td>\n",
       "      <td>1401.34</td>\n",
       "      <td>14.62</td>\n",
       "      <td>21.61</td>\n",
       "      <td>554.11</td>\n",
       "      <td>2388.05</td>\n",
       "      <td>9056.96</td>\n",
       "      <td>1.3</td>\n",
       "      <td>47.50</td>\n",
       "      <td>521.97</td>\n",
       "      <td>2388.03</td>\n",
       "      <td>8130.10</td>\n",
       "      <td>8.4441</td>\n",
       "      <td>0.03</td>\n",
       "      <td>393</td>\n",
       "      <td>2388</td>\n",
       "      <td>100.0</td>\n",
       "      <td>39.08</td>\n",
       "      <td>23.4166</td>\n",
       "      <td>287.0</td>\n",
       "    </tr>\n",
       "    <tr>\n",
       "      <th>3</th>\n",
       "      <td>1</td>\n",
       "      <td>4</td>\n",
       "      <td>0.0042</td>\n",
       "      <td>0.0000</td>\n",
       "      <td>100.0</td>\n",
       "      <td>518.67</td>\n",
       "      <td>642.44</td>\n",
       "      <td>1584.12</td>\n",
       "      <td>1406.42</td>\n",
       "      <td>14.62</td>\n",
       "      <td>21.61</td>\n",
       "      <td>554.07</td>\n",
       "      <td>2388.03</td>\n",
       "      <td>9045.29</td>\n",
       "      <td>1.3</td>\n",
       "      <td>47.28</td>\n",
       "      <td>521.38</td>\n",
       "      <td>2388.05</td>\n",
       "      <td>8132.90</td>\n",
       "      <td>8.3917</td>\n",
       "      <td>0.03</td>\n",
       "      <td>391</td>\n",
       "      <td>2388</td>\n",
       "      <td>100.0</td>\n",
       "      <td>39.00</td>\n",
       "      <td>23.3737</td>\n",
       "      <td>286.0</td>\n",
       "    </tr>\n",
       "    <tr>\n",
       "      <th>4</th>\n",
       "      <td>1</td>\n",
       "      <td>5</td>\n",
       "      <td>0.0014</td>\n",
       "      <td>0.0000</td>\n",
       "      <td>100.0</td>\n",
       "      <td>518.67</td>\n",
       "      <td>642.51</td>\n",
       "      <td>1587.19</td>\n",
       "      <td>1401.92</td>\n",
       "      <td>14.62</td>\n",
       "      <td>21.61</td>\n",
       "      <td>554.16</td>\n",
       "      <td>2388.01</td>\n",
       "      <td>9044.55</td>\n",
       "      <td>1.3</td>\n",
       "      <td>47.31</td>\n",
       "      <td>522.15</td>\n",
       "      <td>2388.03</td>\n",
       "      <td>8129.54</td>\n",
       "      <td>8.4031</td>\n",
       "      <td>0.03</td>\n",
       "      <td>390</td>\n",
       "      <td>2388</td>\n",
       "      <td>100.0</td>\n",
       "      <td>38.99</td>\n",
       "      <td>23.4130</td>\n",
       "      <td>285.0</td>\n",
       "    </tr>\n",
       "  </tbody>\n",
       "</table>\n",
       "</div>"
      ],
      "text/plain": [
       "   unit_no  time_cycles  op_set_1  op_set_2  op_set_3  sensor_1  sensor_2  \\\n",
       "0        1            1    0.0023    0.0003     100.0    518.67    643.02   \n",
       "1        1            2   -0.0027   -0.0003     100.0    518.67    641.71   \n",
       "2        1            3    0.0003    0.0001     100.0    518.67    642.46   \n",
       "3        1            4    0.0042    0.0000     100.0    518.67    642.44   \n",
       "4        1            5    0.0014    0.0000     100.0    518.67    642.51   \n",
       "\n",
       "   sensor_3  sensor_4  sensor_5  sensor_6  sensor_7  sensor_8  sensor_9  \\\n",
       "0   1585.29   1398.21     14.62     21.61    553.90   2388.04   9050.17   \n",
       "1   1588.45   1395.42     14.62     21.61    554.85   2388.01   9054.42   \n",
       "2   1586.94   1401.34     14.62     21.61    554.11   2388.05   9056.96   \n",
       "3   1584.12   1406.42     14.62     21.61    554.07   2388.03   9045.29   \n",
       "4   1587.19   1401.92     14.62     21.61    554.16   2388.01   9044.55   \n",
       "\n",
       "   sensor_10  sensor_11  sensor_12  sensor_13  sensor_14  sensor_15  \\\n",
       "0        1.3      47.20     521.72    2388.03    8125.55     8.4052   \n",
       "1        1.3      47.50     522.16    2388.06    8139.62     8.3803   \n",
       "2        1.3      47.50     521.97    2388.03    8130.10     8.4441   \n",
       "3        1.3      47.28     521.38    2388.05    8132.90     8.3917   \n",
       "4        1.3      47.31     522.15    2388.03    8129.54     8.4031   \n",
       "\n",
       "   sensor_16  sensor_17  sensor_18  sensor_19  sensor_20  sensor_21    rul  \n",
       "0       0.03        392       2388      100.0      38.86    23.3735  289.0  \n",
       "1       0.03        393       2388      100.0      39.02    23.3916  288.0  \n",
       "2       0.03        393       2388      100.0      39.08    23.4166  287.0  \n",
       "3       0.03        391       2388      100.0      39.00    23.3737  286.0  \n",
       "4       0.03        390       2388      100.0      38.99    23.4130  285.0  "
      ]
     },
     "execution_count": 477,
     "metadata": {},
     "output_type": "execute_result"
    }
   ],
   "source": [
    "df_test.head()"
   ]
  },
  {
   "cell_type": "markdown",
   "metadata": {},
   "source": [
    "## Train and test datasets"
   ]
  },
  {
   "cell_type": "code",
   "execution_count": 478,
   "metadata": {},
   "outputs": [
    {
     "data": {
      "text/plain": [
       "Index(['unit_no', 'time_cycles', 'op_set_1', 'op_set_2', 'op_set_3',\n",
       "       'sensor_1', 'sensor_2', 'sensor_3', 'sensor_4', 'sensor_5', 'sensor_6',\n",
       "       'sensor_7', 'sensor_8', 'sensor_9', 'sensor_10', 'sensor_11',\n",
       "       'sensor_12', 'sensor_13', 'sensor_14', 'sensor_15', 'sensor_16',\n",
       "       'sensor_17', 'sensor_18', 'sensor_19', 'sensor_20', 'sensor_21', 'rul'],\n",
       "      dtype='object')"
      ]
     },
     "execution_count": 478,
     "metadata": {},
     "output_type": "execute_result"
    }
   ],
   "source": [
    "df_train.columns"
   ]
  },
  {
   "cell_type": "code",
   "execution_count": 479,
   "metadata": {},
   "outputs": [],
   "source": [
    "X_train = df_train[['time_cycles',\n",
    "                   'sensor_1', 'sensor_2', 'sensor_3', 'sensor_4', 'sensor_5', 'sensor_6',\n",
    "                   'sensor_7', 'sensor_8', 'sensor_9', 'sensor_10', 'sensor_11',\n",
    "                   'sensor_12', 'sensor_13', 'sensor_14', 'sensor_15', 'sensor_16',\n",
    "                   'sensor_17', 'sensor_18', 'sensor_19', 'sensor_20', 'sensor_21']].values\n",
    "\n",
    "X_test = df_test[['time_cycles', \n",
    "                   'sensor_1', 'sensor_2', 'sensor_3', 'sensor_4', 'sensor_5', 'sensor_6',\n",
    "                   'sensor_7', 'sensor_8', 'sensor_9', 'sensor_10', 'sensor_11',\n",
    "                   'sensor_12', 'sensor_13', 'sensor_14', 'sensor_15', 'sensor_16',\n",
    "                   'sensor_17', 'sensor_18', 'sensor_19', 'sensor_20', 'sensor_21']].values\n",
    "\n",
    "y_train = df_train['rul'].values\n",
    "y_train = y_train.reshape((y_train.shape[0], 1))\n",
    "\n",
    "y_test = df_test['rul'].values\n",
    "y_test = y_test.reshape((y_test.shape[0], 1))"
   ]
  },
  {
   "cell_type": "code",
   "execution_count": 480,
   "metadata": {},
   "outputs": [
    {
     "data": {
      "text/plain": [
       "(20631, 22)"
      ]
     },
     "execution_count": 480,
     "metadata": {},
     "output_type": "execute_result"
    }
   ],
   "source": [
    "X_train.shape"
   ]
  },
  {
   "cell_type": "code",
   "execution_count": 481,
   "metadata": {},
   "outputs": [
    {
     "data": {
      "text/plain": [
       "(20631, 1)"
      ]
     },
     "execution_count": 481,
     "metadata": {},
     "output_type": "execute_result"
    }
   ],
   "source": [
    "y_train.shape"
   ]
  },
  {
   "cell_type": "code",
   "execution_count": 482,
   "metadata": {},
   "outputs": [
    {
     "data": {
      "text/plain": [
       "(13096, 22)"
      ]
     },
     "execution_count": 482,
     "metadata": {},
     "output_type": "execute_result"
    }
   ],
   "source": [
    "X_test.shape"
   ]
  },
  {
   "cell_type": "code",
   "execution_count": 483,
   "metadata": {},
   "outputs": [
    {
     "data": {
      "text/plain": [
       "(13096, 1)"
      ]
     },
     "execution_count": 483,
     "metadata": {},
     "output_type": "execute_result"
    }
   ],
   "source": [
    "y_test.shape"
   ]
  },
  {
   "cell_type": "markdown",
   "metadata": {},
   "source": [
    "## Scaling the data"
   ]
  },
  {
   "cell_type": "code",
   "execution_count": 484,
   "metadata": {},
   "outputs": [],
   "source": [
    "# Importing sklearn functions for normalization and scaling\n",
    "from sklearn.preprocessing import normalize\n",
    "from sklearn.preprocessing import robust_scale\n",
    "\n",
    "def normalize_scale(X_train, X_test):\n",
    "   \n",
    "    # Normalize the values in X train and test\n",
    "    X_train_norm = normalize(X_train)\n",
    "    X_test_norm = normalize(X_test)\n",
    "    \n",
    "    # Run the normalized values through a robust scaler\n",
    "    X_train_norm_robscaled = robust_scale(X_train_norm)\n",
    "    X_test_norm_robscaled = robust_scale(X_test_norm) \n",
    "    \n",
    "    return X_train_norm_robscaled, X_test_norm_robscaled"
   ]
  },
  {
   "cell_type": "code",
   "execution_count": 485,
   "metadata": {},
   "outputs": [],
   "source": [
    "# Applying the normalization and the robust scaling. *_nrb == *_(normalized and robust scaled)\n",
    "X_train_nrb, X_test_nrb = normalize_scale(X_train, X_test)"
   ]
  },
  {
   "cell_type": "code",
   "execution_count": null,
   "metadata": {},
   "outputs": [],
   "source": []
  },
  {
   "cell_type": "markdown",
   "metadata": {},
   "source": [
    "## Keras neural network model"
   ]
  },
  {
   "cell_type": "code",
   "execution_count": 486,
   "metadata": {},
   "outputs": [],
   "source": [
    "# Import Keras to build and train ML model\n",
    "from keras import optimizers\n",
    "from keras.models import Sequential\n",
    "from keras.layers import Dense\n",
    "\n",
    "# Imort sklearn fir mathmatical computation of MSE of pred-Y\n",
    "from sklearn import metrics\n",
    "\n",
    "# Import matplotlib for visualisation of results\n",
    "from matplotlib import pyplot as plt"
   ]
  },
  {
   "cell_type": "code",
   "execution_count": 487,
   "metadata": {},
   "outputs": [],
   "source": [
    "# Ser hyperparemeters\n",
    "batch_size = 128\n",
    "learning_rate = 0.011\n",
    "epochs = 25"
   ]
  },
  {
   "cell_type": "code",
   "execution_count": 488,
   "metadata": {},
   "outputs": [
    {
     "name": "stdout",
     "output_type": "stream",
     "text": [
      "Train lowest mse: 1612.87451171875\n",
      "Train lowest sqrt(mse): 40.16060895602493\n"
     ]
    }
   ],
   "source": [
    "# Create model input format: [num_ex, num_features]\n",
    "model = Sequential()\n",
    "\n",
    "# First hidden layer\n",
    "model.add(Dense(2,\n",
    "                input_dim = X_train_nrb.shape[1], # Features from input X\n",
    "                kernel_initializer = 'random_uniform', #Initialize W\n",
    "                bias_initializer = 'zeros', #Initialize b\n",
    "                activation = 'sigmoid' #Activation function\n",
    "                )\n",
    "         )\n",
    "# Output lar\n",
    "model.add(Dense(1,\n",
    "                kernel_initializer = 'random_uniform',\n",
    "                bias_initializer = 'zeros'\n",
    "                )\n",
    "         )\n",
    "\n",
    "# Define optimizer: Only learning rate is set.\n",
    "sgd = optimizers.SGD(lr = learning_rate)\n",
    "\n",
    "# Compile model with loss function and optimizer\n",
    "model.compile(loss = 'mean_squared_error', optimizer = 'sgd')\n",
    "\n",
    "# Fit/train the model\n",
    "history = model.fit(X_train_nrb, y_train, epochs = epochs, batch_size = batch_size, verbose = 0)\n",
    "print('Train lowest mse: ' + str(min(history.history['loss'])))\n",
    "print('Train lowest sqrt(mse): ' + str(np.sqrt(min(history.history['loss']))))\n",
    "\n",
    "# Predict:\n",
    "y_pred = model.predict(X_test_nrb)"
   ]
  },
  {
   "cell_type": "code",
   "execution_count": 489,
   "metadata": {},
   "outputs": [
    {
     "data": {
      "text/plain": [
       "(13096, 1)"
      ]
     },
     "execution_count": 489,
     "metadata": {},
     "output_type": "execute_result"
    }
   ],
   "source": [
    "y_pred.shape"
   ]
  },
  {
   "cell_type": "code",
   "execution_count": 490,
   "metadata": {},
   "outputs": [
    {
     "data": {
      "text/plain": [
       "(13096, 1)"
      ]
     },
     "execution_count": 490,
     "metadata": {},
     "output_type": "execute_result"
    }
   ],
   "source": [
    "y_test.shape"
   ]
  },
  {
   "cell_type": "code",
   "execution_count": 491,
   "metadata": {},
   "outputs": [],
   "source": [
    "y_pred  = [val for sublist in y_pred for val in sublist]\n",
    "y_test  = [val for sublist in y_test for val in sublist]"
   ]
  },
  {
   "cell_type": "code",
   "execution_count": 492,
   "metadata": {},
   "outputs": [],
   "source": [
    "# Predictions to dataframe\n",
    "df_score = pd.DataFrame({'y_pred' : y_pred, 'y_test' : y_test})"
   ]
  },
  {
   "cell_type": "code",
   "execution_count": 493,
   "metadata": {},
   "outputs": [],
   "source": [
    "df_score = df_score.dropna()\n",
    "df_score = df_score.sort_values('y_test', ascending = False).reset_index(drop = True)"
   ]
  },
  {
   "cell_type": "code",
   "execution_count": 496,
   "metadata": {},
   "outputs": [
    {
     "data": {
      "text/plain": [
       "<matplotlib.axes._subplots.AxesSubplot at 0x1303d60e508>"
      ]
     },
     "execution_count": 496,
     "metadata": {},
     "output_type": "execute_result"
    },
    {
     "data": {
      "text/plain": [
       "<Figure size 432x288 with 0 Axes>"
      ]
     },
     "metadata": {},
     "output_type": "display_data"
    },
    {
     "data": {
      "image/png": "[encoded data removed]",
      "text/plain": [
       "<Figure size 1440x288 with 1 Axes>"
      ]
     },
     "metadata": {
      "needs_background": "light"
     },
     "output_type": "display_data"
    }
   ],
   "source": [
    "plt.figure()\n",
    "#df_score.sample(30).sort_values('y_test', ascending = False).\\\n",
    "#    reset_index(drop = True).plot.area(alpha = 0.2, stacked = False, figsize = (20, 4))\n",
    "df_score.sort_values('y_test', ascending = False).\\\n",
    "    reset_index(drop = True).plot.area(alpha = 0.2, stacked = False, figsize = (20, 4))"
   ]
  },
  {
   "cell_type": "markdown",
   "metadata": {},
   "source": [
    "## Evaluating the predictions"
   ]
  },
  {
   "cell_type": "code",
   "execution_count": 495,
   "metadata": {},
   "outputs": [
    {
     "name": "stdout",
     "output_type": "stream",
     "text": [
      "Root mean squared error = 120.9580428442391\n"
     ]
    }
   ],
   "source": [
    "from sklearn.metrics import mean_squared_error\n",
    "print('Root mean squared error = {}'.format(mean_squared_error(df_score.y_test.values, df_score.y_pred.values, squared = False)))"
   ]
  }
 ],
 "metadata": {
  "kernelspec": {
   "display_name": "Python 3",
   "language": "python",
   "name": "python3"
  },
  "language_info": {
   "codemirror_mode": {
    "name": "ipython",
    "version": 3
   },
   "file_extension": ".py",
   "mimetype": "text/x-python",
   "name": "python",
   "nbconvert_exporter": "python",
   "pygments_lexer": "ipython3",
   "version": "3.7.6"
  }
 },
 "nbformat": 4,
 "nbformat_minor": 4
}
